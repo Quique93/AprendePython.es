{
 "cells": [
  {
   "cell_type": "code",
   "execution_count": 1,
   "metadata": {},
   "outputs": [
    {
     "name": "stdout",
     "output_type": "stream",
     "text": [
      "Aviso por alta temperatura\n"
     ]
    }
   ],
   "source": [
    "### LA SENTENCIA IF\n",
    "temperatura = 40\n",
    "if temperatura > 35:\n",
    "    print('Aviso por alta temperatura')"
   ]
  },
  {
   "cell_type": "code",
   "execution_count": 2,
   "metadata": {},
   "outputs": [
    {
     "name": "stdout",
     "output_type": "stream",
     "text": [
      "Parametros normales\n"
     ]
    }
   ],
   "source": [
    "## LA SENTENCIA IFELSE\n",
    "temperatura = 25\n",
    "if temperatura >35:\n",
    "    print('Aviso por alta temperatura')\n",
    "else:\n",
    "    print('Parametros normales')"
   ]
  },
  {
   "cell_type": "code",
   "execution_count": 4,
   "metadata": {},
   "outputs": [
    {
     "name": "stdout",
     "output_type": "stream",
     "text": [
      "Aviso por altas temperaturas\n"
     ]
    }
   ],
   "source": [
    "## LA SENTENCIA IF-ELIF-ELSE\n",
    "temperatura = 30.5\n",
    "if temperatura < 15:\n",
    "    print('Hara frio')\n",
    "elif temperatura <30:\n",
    "    print('Parametros normales')\n",
    "else:\n",
    "    print('Aviso por altas temperaturas')"
   ]
  },
  {
   "cell_type": "code",
   "execution_count": 8,
   "metadata": {},
   "outputs": [
    {
     "name": "stdout",
     "output_type": "stream",
     "text": [
      "Aviso por alta temperatura\n",
      "Aviso por alta temperatura\n"
     ]
    }
   ],
   "source": [
    "## SE PUEDEN HACER CONDICIONALES EN UNA SOLA LINEA\n",
    "temperatura = 36\n",
    "if temperatura >35:\n",
    "    print('Aviso por alta temperatura')\n",
    "else:\n",
    "    print('Parametros normales')\n",
    "\n",
    "## SERIA IGUAL QUE \n",
    "riesgo = 'Parametros normales' if temperatura < 35 else 'Aviso por alta temperatura'\n",
    "print(riesgo)"
   ]
  },
  {
   "cell_type": "code",
   "execution_count": null,
   "metadata": {},
   "outputs": [],
   "source": []
  }
 ],
 "metadata": {
  "kernelspec": {
   "display_name": "Python 3",
   "language": "python",
   "name": "python3"
  },
  "language_info": {
   "codemirror_mode": {
    "name": "ipython",
    "version": 3
   },
   "file_extension": ".py",
   "mimetype": "text/x-python",
   "name": "python",
   "nbconvert_exporter": "python",
   "pygments_lexer": "ipython3",
   "version": "3.12.3"
  }
 },
 "nbformat": 4,
 "nbformat_minor": 2
}
