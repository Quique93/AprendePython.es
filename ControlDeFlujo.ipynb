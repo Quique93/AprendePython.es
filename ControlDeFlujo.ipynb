{
 "cells": [
  {
   "cell_type": "code",
   "execution_count": 1,
   "metadata": {},
   "outputs": [
    {
     "name": "stdout",
     "output_type": "stream",
     "text": [
      "Aviso por alta temperatura\n"
     ]
    }
   ],
   "source": [
    "### LA SENTENCIA IF\n",
    "temperatura = 40\n",
    "if temperatura > 35:\n",
    "    print('Aviso por alta temperatura')"
   ]
  },
  {
   "cell_type": "code",
   "execution_count": 2,
   "metadata": {},
   "outputs": [
    {
     "name": "stdout",
     "output_type": "stream",
     "text": [
      "Parametros normales\n"
     ]
    }
   ],
   "source": [
    "## LA SENTENCIA IFELSE\n",
    "temperatura = 25\n",
    "if temperatura >35:\n",
    "    print('Aviso por alta temperatura')\n",
    "else:\n",
    "    print('Parametros normales')"
   ]
  },
  {
   "cell_type": "code",
   "execution_count": 4,
   "metadata": {},
   "outputs": [
    {
     "name": "stdout",
     "output_type": "stream",
     "text": [
      "Aviso por altas temperaturas\n"
     ]
    }
   ],
   "source": [
    "## LA SENTENCIA IF-ELIF-ELSE\n",
    "temperatura = 30.5\n",
    "if temperatura < 15:\n",
    "    print('Hara frio')\n",
    "elif temperatura <30:\n",
    "    print('Parametros normales')\n",
    "else:\n",
    "    print('Aviso por altas temperaturas')"
   ]
  },
  {
   "cell_type": "code",
   "execution_count": 8,
   "metadata": {},
   "outputs": [
    {
     "name": "stdout",
     "output_type": "stream",
     "text": [
      "Aviso por alta temperatura\n",
      "Aviso por alta temperatura\n"
     ]
    }
   ],
   "source": [
    "## SE PUEDEN HACER CONDICIONALES EN UNA SOLA LINEA\n",
    "temperatura = 36\n",
    "if temperatura >35:\n",
    "    print('Aviso por alta temperatura')\n",
    "else:\n",
    "    print('Parametros normales')\n",
    "\n",
    "## SERIA IGUAL QUE \n",
    "riesgo = 'Parametros normales' if temperatura < 35 else 'Aviso por alta temperatura'\n",
    "print(riesgo)"
   ]
  },
  {
   "cell_type": "code",
   "execution_count": 1,
   "metadata": {},
   "outputs": [
    {
     "name": "stdout",
     "output_type": "stream",
     "text": [
      "Tu numero es menor o igual que 10.\n"
     ]
    }
   ],
   "source": [
    "## Python ofrece la oportunidad de chequear el orden en una variable sin poner dos condicionales\n",
    "x = int(input('Introduce un numero entre 0 y 20:\\n'))\n",
    "if 0<=x<=10:\n",
    "    print(\"Tu numero es menor o igual que 10.\")\n",
    "else:\n",
    "    print(\"Tu numero es superior a 10.\")"
   ]
  },
  {
   "cell_type": "code",
   "execution_count": 4,
   "metadata": {},
   "outputs": [
    {
     "name": "stdout",
     "output_type": "stream",
     "text": [
      "Valor no tiene ningun valor\n",
      "Valor tiene algun valor util\n"
     ]
    }
   ],
   "source": [
    "# None es un valor especial de Python porque almacena el valor nulo. Veamos como se relaciona con condicionales\n",
    "valor = None\n",
    "if valor:\n",
    "    print('Valor tiene algun valor util')\n",
    "else:\n",
    "    print('Valor no tiene ningun valor')\n",
    "\n",
    "# Pero si ponemos su comparativa con boleanos:\n",
    "if valor is None:\n",
    "    print('Valor tiene algun valor util')\n",
    "else:\n",
    "    print('Valor no tiene ningun valor')"
   ]
  },
  {
   "cell_type": "code",
   "execution_count": 9,
   "metadata": {},
   "outputs": [
    {
     "name": "stdout",
     "output_type": "stream",
     "text": [
      "True\n",
      "False\n",
      "False\n",
      "False\n",
      "True\n",
      "False\n",
      "False\n",
      "False\n",
      "True\n",
      "False\n",
      "False\n",
      "False\n",
      "False\n"
     ]
    }
   ],
   "source": [
    "print(bool(True))\n",
    "print(bool(None))\n",
    "print(bool(False))\n",
    "print(bool(0))\n",
    "print(bool(1))\n",
    "print(bool(0.0))\n",
    "print(bool(0.00))\n",
    "print(bool(''))\n",
    "print(bool('hola'))\n",
    "print(bool([]))\n",
    "print(bool(()))\n",
    "print(bool(set()))\n",
    "print(bool({}))"
   ]
  },
  {
   "cell_type": "code",
   "execution_count": 14,
   "metadata": {},
   "outputs": [
    {
     "name": "stdout",
     "output_type": "stream",
     "text": [
      "5\n",
      "5\n",
      "1\n"
     ]
    }
   ],
   "source": [
    "# Es posible utilizar operadores logicos sacando partida a las tablas de relacion entre and y or:\n",
    "b = 5\n",
    "c =0\n",
    "a= b or c # Como estamos en un or, se 5 es True y por lo tanto a valdra lo que sea True\n",
    "# En caso de que ambos sean True, se quedara con la primera opcion.\n",
    "print(a)\n",
    "\n",
    "b = 5\n",
    "c =1\n",
    "a= b or c\n",
    "# En caso de que ambos sean True, se quedara con la primera opcion.\n",
    "print(a)\n",
    "\n",
    "b = 5\n",
    "c =1\n",
    "a= c or b\n",
    "# En caso de que ambos sean True, se quedara con la primera opcion.\n",
    "print(a)"
   ]
  },
  {
   "cell_type": "code",
   "execution_count": 15,
   "metadata": {},
   "outputs": [
    {
     "name": "stdout",
     "output_type": "stream",
     "text": [
      "0\n",
      "0.0\n"
     ]
    }
   ],
   "source": [
    "b = 5\n",
    "c =0\n",
    "a= b and c # En este caso, como es falso que ambos sean True, se ira al primer valor false que encuentre.\n",
    "print(a)\n",
    "\n",
    "b = 0.0\n",
    "c =0\n",
    "a= b and c # En este caso, como es True que ambos sean False, se ira al primer valor false que encuentre.\n",
    "print(a)"
   ]
  },
  {
   "cell_type": "code",
   "execution_count": 16,
   "metadata": {},
   "outputs": [
    {
     "name": "stdout",
     "output_type": "stream",
     "text": [
      "🔴\n"
     ]
    }
   ],
   "source": [
    "## Condicion switch case:\n",
    "color = '#FF0000'\n",
    "match color:\n",
    "    case '#FF0000':\n",
    "        print('🔴')\n",
    "    case '#00FF00':\n",
    "        print('🟢')\n",
    "    case '#0000FF':\n",
    "        print('🔵')"
   ]
  },
  {
   "cell_type": "code",
   "execution_count": 17,
   "metadata": {},
   "outputs": [],
   "source": [
    "#Que ocurre si el valor que queremos comparar no esta entre los casos:\n",
    "color = '#FF0001'\n",
    "match color:\n",
    "    case '#FF0000':\n",
    "        print('🔴')\n",
    "    case '#00FF00':\n",
    "        print('🟢')\n",
    "    case '#0000FF':\n",
    "        print('🔵')\n",
    "# Vemos que en este caso no se printea nada. Por lo tanto, hay que recoger el caso en que no haya coincidencias."
   ]
  },
  {
   "cell_type": "code",
   "execution_count": 18,
   "metadata": {},
   "outputs": [
    {
     "name": "stdout",
     "output_type": "stream",
     "text": [
      "Unknown color!\n"
     ]
    }
   ],
   "source": [
    "color = '#FF0001'\n",
    "match color:\n",
    "    case '#FF0000':\n",
    "        print('🔴')\n",
    "    case '#00FF00':\n",
    "        print('🟢')\n",
    "    case '#0000FF':\n",
    "        print('🔵')\n",
    "    case _:\n",
    "        print(\"Unknown color!\")"
   ]
  },
  {
   "cell_type": "code",
   "execution_count": 16,
   "metadata": {},
   "outputs": [
    {
     "name": "stdout",
     "output_type": "stream",
     "text": [
      "<class 'tuple'>\n",
      "El punto es del plano\n"
     ]
    }
   ],
   "source": [
    "# La sentencia match-case ofrece mucho mas. Podemos deconstruir estructuras de datos\n",
    "# podemos capturar elementos o mapear valores.\n",
    "# Imaginemos que tenemos la tupla siguiente:\n",
    "punto = (2,5)\n",
    "print(type(punto))\n",
    "# Podemos decidir si el punto es de un plano o del espacio comparando dimensiones\n",
    "match punto:\n",
    "    case (x,y):\n",
    "        print(\"El punto es del plano\")\n",
    "    case (x,y,z):\n",
    "        print(\"El punto es del espacio\")\n",
    "# ejecutar con punto = (2,5,7)"
   ]
  },
  {
   "cell_type": "code",
   "execution_count": 17,
   "metadata": {},
   "outputs": [
    {
     "name": "stdout",
     "output_type": "stream",
     "text": [
      "El punto es del plano\n"
     ]
    }
   ],
   "source": [
    "# Podemos matchear tambien con strings:\n",
    "punto = ('2','5')\n",
    "match punto:\n",
    "    case (x,y):\n",
    "        print('El punto es del plano')\n",
    "    case (x,y,z):\n",
    "        print('El punto es del espacio')"
   ]
  },
  {
   "cell_type": "code",
   "execution_count": 20,
   "metadata": {},
   "outputs": [
    {
     "name": "stdout",
     "output_type": "stream",
     "text": [
      "Unknown\n"
     ]
    }
   ],
   "source": [
    "# Ademas podemos inferior en el case la tipologia de datos que esperamos:\n",
    "punto = ('2','5')\n",
    "match punto:\n",
    "    case (int(),int()):\n",
    "        print('El punto es del plano')\n",
    "    case (int(),int(),int()):\n",
    "        print('El punto es del espacio')\n",
    "    case _:\n",
    "        print(\"Unknown\")\n",
    "# Aqui el codigo devuelve Unknown porque no hay match!!!"
   ]
  },
  {
   "cell_type": "code",
   "execution_count": 21,
   "metadata": {},
   "outputs": [
    {
     "name": "stdout",
     "output_type": "stream",
     "text": [
      "El punto es del plano\n"
     ]
    }
   ],
   "source": [
    "punto = (2,7)\n",
    "match punto:\n",
    "    case (int(),int()):\n",
    "        print('El punto es del plano')\n",
    "    case (int(),int(),int()):\n",
    "        print('El punto es del espacio')\n",
    "    case _:\n",
    "        print(\"Unknown\")"
   ]
  },
  {
   "cell_type": "code",
   "execution_count": 32,
   "metadata": {},
   "outputs": [],
   "source": [
    "# Imaginemos que queremos hacer una funcion que nos calcule la distancia de un punto del plano o del espacio\n",
    "# al origen de coordenadas. Con match case lo podemos hacer relativamente sencillo\n",
    "# comprobando a la vez que los componentes estan bien definidos\n",
    "def distancia_al_origen(tuple):\n",
    "    distancia = float(0)\n",
    "    match tuple:\n",
    "        case (int(),int()):\n",
    "            distancia = (tuple[0]**2+tuple[1]**2)**(0.5)\n",
    "            texto_output = f'La distancia del punto {tuple} al origen es {distancia:.6f}'\n",
    "        case (int(),int(),int()):\n",
    "            distancia = (tuple[0]**2+tuple[1]**2+tuple[2])**(0.5)\n",
    "            texto_output = f'La distancia del punto {tuple} al origen es {distancia:.6f}'\n",
    "        case _:\n",
    "            texto_output = 'No se ha podido calcular la distancia. Comprueba el vector de la funcion.'\n",
    "    return texto_output"
   ]
  },
  {
   "cell_type": "code",
   "execution_count": 33,
   "metadata": {},
   "outputs": [
    {
     "name": "stdout",
     "output_type": "stream",
     "text": [
      "La distancia del punto (1, 1, 0) al origen es 1.414214\n",
      "No se ha podido calcular la distancia. Comprueba el vector de la funcion.\n"
     ]
    }
   ],
   "source": [
    "print(distancia_al_origen((1,1,0))) # En el primer caso nos devuelve la raiz de 2.\n",
    "print(distancia_al_origen((1.1,1,0))) # En el segundo caso nos dice que no se ha podido calcular porque \n",
    "# uno de los valores no es un entero. Si cambiamos en la funcion int() por float() no habra este problema."
   ]
  },
  {
   "cell_type": "code",
   "execution_count": 40,
   "metadata": {},
   "outputs": [
    {
     "data": {
      "text/plain": [
       "[{'username': 'sdelquin', 'password': '1234'},\n",
       " {'email': 'sdelquin@gmail.com', 'token': '4321'},\n",
       " {'email': 'test@test.com', 'password': 'ABCD'},\n",
       " {'username': 'sdelquin', 'password': 1234}]"
      ]
     },
     "execution_count": 40,
     "metadata": {},
     "output_type": "execute_result"
    }
   ],
   "source": [
    "# Imaginemos que tenemos el siguiente diccionario:\n",
    "auths = [\n",
    "    {'username': 'sdelquin', 'password': '1234'},\n",
    "    {'email': 'sdelquin@gmail.com', 'token': '4321'},\n",
    "    {'email': 'test@test.com', 'password': 'ABCD'},\n",
    "    {'username': 'sdelquin', 'password': 1234}\n",
    "]\n",
    "auths    "
   ]
  },
  {
   "cell_type": "code",
   "execution_count": 44,
   "metadata": {},
   "outputs": [
    {
     "name": "stdout",
     "output_type": "stream",
     "text": [
      "{'username': 'sdelquin', 'password': '1234'}\n",
      "Authenticating with username and password\n",
      "sdelquin: 1234\n",
      "---\n",
      "{'email': 'sdelquin@gmail.com', 'token': '4321'}\n",
      "Authenticating with email and token\n",
      "sdelquin@gmail.com: 4321\n",
      "---\n",
      "{'email': 'test@test.com', 'password': 'ABCD'}\n",
      "Authenticating method not valid!\n",
      "---\n",
      "{'username': 'sdelquin', 'password': 1234}\n",
      "Authenticating method not valid!\n",
      "---\n"
     ]
    }
   ],
   "source": [
    "# Vamos a validar recorrigendo el diccionario en que tipo de identificacion nos encontramos.\n",
    "# Si nos fijamos en el output, solo consideramos correctas las autentificaciones con usuario y contraseña\n",
    "# que sean strings y las autentificaciones con mail y token que sean strings. Si uno de los dos no es string,\n",
    "# no lo consideraremos correcto.\n",
    "for auth in auths:\n",
    "    print(auth)\n",
    "    match auth:\n",
    "        case {'username': str(username), 'password': str(password)}:\n",
    "            print('Authenticating with username and password')\n",
    "            print(f'{username}: {password}')\n",
    "        case {'email': str(email), 'token': str(token)}:\n",
    "            print('Authenticating with email and token')\n",
    "            print(f'{email}: {token}')\n",
    "        case _:\n",
    "            print('Authenticating method not valid!')\n",
    "    print('---')"
   ]
  },
  {
   "cell_type": "code",
   "execution_count": 49,
   "metadata": {},
   "outputs": [],
   "source": [
    "# Por ultimo, veamos el operador morsa :=\n",
    "# Veamos un ejemplo para verlo claro. \n",
    "# Supongamos que queremos una funcion que dado el radio de un circulo nos calcule el perimetro \n",
    "# y en caso de que el perimetro no sea mayor que un numero, pidamos al usuario que introduzca mas radio.\n",
    "def calculo_perimetro(float):\n",
    "    perimetro = float*3.14159\n",
    "    message = str()\n",
    "    if perimetro < 100:\n",
    "        message = f'El perimetro {perimetro:.5f} es inferior a 100. Introduce un radio mas elevado'\n",
    "    else:\n",
    "        message = f'El perimetro {perimetro:.5f} es suficiente.'\n",
    "    return message\n"
   ]
  },
  {
   "cell_type": "code",
   "execution_count": 50,
   "metadata": {},
   "outputs": [
    {
     "name": "stdout",
     "output_type": "stream",
     "text": [
      "El perimetro 94.24770 es inferior a 100. Introduce un radio mas elevado\n",
      "El perimetro 103.67247 es suficiente.\n"
     ]
    }
   ],
   "source": [
    "print(calculo_perimetro(30))\n",
    "print(calculo_perimetro(33))"
   ]
  },
  {
   "cell_type": "code",
   "execution_count": 53,
   "metadata": {},
   "outputs": [],
   "source": [
    "# Con el operador morsa podriamos haber definido la funcion de la siguiente forma:\n",
    "def calculo_perimetro(float):\n",
    "    message = str()\n",
    "    if (perimetro := float*3.14159) < 100: # Definiendo el perimetro donde elijamos (con parentesis) y ya quedaria listo para usarlo\n",
    "        message = f'El perimetro {perimetro:.5f} es inferior a 100. Introduce un radio mas elevado'\n",
    "    else:\n",
    "        message = f'El perimetro {perimetro:.5f} es suficiente.'\n",
    "    return message\n"
   ]
  },
  {
   "cell_type": "code",
   "execution_count": 54,
   "metadata": {},
   "outputs": [
    {
     "name": "stdout",
     "output_type": "stream",
     "text": [
      "El perimetro 94.24770 es inferior a 100. Introduce un radio mas elevado\n",
      "El perimetro 103.67247 es suficiente.\n"
     ]
    }
   ],
   "source": [
    "print(calculo_perimetro(30))\n",
    "print(calculo_perimetro(33))"
   ]
  }
 ],
 "metadata": {
  "kernelspec": {
   "display_name": "Python 3",
   "language": "python",
   "name": "python3"
  },
  "language_info": {
   "codemirror_mode": {
    "name": "ipython",
    "version": 3
   },
   "file_extension": ".py",
   "mimetype": "text/x-python",
   "name": "python",
   "nbconvert_exporter": "python",
   "pygments_lexer": "ipython3",
   "version": "3.12.3"
  }
 },
 "nbformat": 4,
 "nbformat_minor": 2
}
