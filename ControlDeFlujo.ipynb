{
 "cells": [
  {
   "cell_type": "code",
   "execution_count": 1,
   "metadata": {},
   "outputs": [
    {
     "name": "stdout",
     "output_type": "stream",
     "text": [
      "Aviso por alta temperatura\n"
     ]
    }
   ],
   "source": [
    "### LA SENTENCIA IF\n",
    "temperatura = 40\n",
    "if temperatura > 35:\n",
    "    print('Aviso por alta temperatura')"
   ]
  },
  {
   "cell_type": "code",
   "execution_count": 2,
   "metadata": {},
   "outputs": [
    {
     "name": "stdout",
     "output_type": "stream",
     "text": [
      "Parametros normales\n"
     ]
    }
   ],
   "source": [
    "## LA SENTENCIA IFELSE\n",
    "temperatura = 25\n",
    "if temperatura >35:\n",
    "    print('Aviso por alta temperatura')\n",
    "else:\n",
    "    print('Parametros normales')"
   ]
  },
  {
   "cell_type": "code",
   "execution_count": 4,
   "metadata": {},
   "outputs": [
    {
     "name": "stdout",
     "output_type": "stream",
     "text": [
      "Aviso por altas temperaturas\n"
     ]
    }
   ],
   "source": [
    "## LA SENTENCIA IF-ELIF-ELSE\n",
    "temperatura = 30.5\n",
    "if temperatura < 15:\n",
    "    print('Hara frio')\n",
    "elif temperatura <30:\n",
    "    print('Parametros normales')\n",
    "else:\n",
    "    print('Aviso por altas temperaturas')"
   ]
  },
  {
   "cell_type": "code",
   "execution_count": 8,
   "metadata": {},
   "outputs": [
    {
     "name": "stdout",
     "output_type": "stream",
     "text": [
      "Aviso por alta temperatura\n",
      "Aviso por alta temperatura\n"
     ]
    }
   ],
   "source": [
    "## SE PUEDEN HACER CONDICIONALES EN UNA SOLA LINEA\n",
    "temperatura = 36\n",
    "if temperatura >35:\n",
    "    print('Aviso por alta temperatura')\n",
    "else:\n",
    "    print('Parametros normales')\n",
    "\n",
    "## SERIA IGUAL QUE \n",
    "riesgo = 'Parametros normales' if temperatura < 35 else 'Aviso por alta temperatura'\n",
    "print(riesgo)"
   ]
  },
  {
   "cell_type": "code",
   "execution_count": 1,
   "metadata": {},
   "outputs": [
    {
     "name": "stdout",
     "output_type": "stream",
     "text": [
      "Tu numero es menor o igual que 10.\n"
     ]
    }
   ],
   "source": [
    "## Python ofrece la oportunidad de chequear el orden en una variable sin poner dos condicionales\n",
    "x = int(input('Introduce un numero entre 0 y 20:\\n'))\n",
    "if 0<=x<=10:\n",
    "    print(\"Tu numero es menor o igual que 10.\")\n",
    "else:\n",
    "    print(\"Tu numero es superior a 10.\")"
   ]
  },
  {
   "cell_type": "code",
   "execution_count": 4,
   "metadata": {},
   "outputs": [
    {
     "name": "stdout",
     "output_type": "stream",
     "text": [
      "Valor no tiene ningun valor\n",
      "Valor tiene algun valor util\n"
     ]
    }
   ],
   "source": [
    "# None es un valor especial de Python porque almacena el valor nulo. Veamos como se relaciona con condicionales\n",
    "valor = None\n",
    "if valor:\n",
    "    print('Valor tiene algun valor util')\n",
    "else:\n",
    "    print('Valor no tiene ningun valor')\n",
    "\n",
    "# Pero si ponemos su comparativa con boleanos:\n",
    "if valor is None:\n",
    "    print('Valor tiene algun valor util')\n",
    "else:\n",
    "    print('Valor no tiene ningun valor')"
   ]
  },
  {
   "cell_type": "code",
   "execution_count": 9,
   "metadata": {},
   "outputs": [
    {
     "name": "stdout",
     "output_type": "stream",
     "text": [
      "True\n",
      "False\n",
      "False\n",
      "False\n",
      "True\n",
      "False\n",
      "False\n",
      "False\n",
      "True\n",
      "False\n",
      "False\n",
      "False\n",
      "False\n"
     ]
    }
   ],
   "source": [
    "print(bool(True))\n",
    "print(bool(None))\n",
    "print(bool(False))\n",
    "print(bool(0))\n",
    "print(bool(1))\n",
    "print(bool(0.0))\n",
    "print(bool(0.00))\n",
    "print(bool(''))\n",
    "print(bool('hola'))\n",
    "print(bool([]))\n",
    "print(bool(()))\n",
    "print(bool(set()))\n",
    "print(bool({}))"
   ]
  },
  {
   "cell_type": "code",
   "execution_count": 14,
   "metadata": {},
   "outputs": [
    {
     "name": "stdout",
     "output_type": "stream",
     "text": [
      "5\n",
      "5\n",
      "1\n"
     ]
    }
   ],
   "source": [
    "# Es posible utilizar operadores logicos sacando partida a las tablas de relacion entre and y or:\n",
    "b = 5\n",
    "c =0\n",
    "a= b or c # Como estamos en un or, se 5 es True y por lo tanto a valdra lo que sea True\n",
    "# En caso de que ambos sean True, se quedara con la primera opcion.\n",
    "print(a)\n",
    "\n",
    "b = 5\n",
    "c =1\n",
    "a= b or c\n",
    "# En caso de que ambos sean True, se quedara con la primera opcion.\n",
    "print(a)\n",
    "\n",
    "b = 5\n",
    "c =1\n",
    "a= c or b\n",
    "# En caso de que ambos sean True, se quedara con la primera opcion.\n",
    "print(a)"
   ]
  },
  {
   "cell_type": "code",
   "execution_count": 15,
   "metadata": {},
   "outputs": [
    {
     "name": "stdout",
     "output_type": "stream",
     "text": [
      "0\n",
      "0.0\n"
     ]
    }
   ],
   "source": [
    "b = 5\n",
    "c =0\n",
    "a= b and c # En este caso, como es falso que ambos sean True, se ira al primer valor false que encuentre.\n",
    "print(a)\n",
    "\n",
    "b = 0.0\n",
    "c =0\n",
    "a= b and c # En este caso, como es True que ambos sean False, se ira al primer valor false que encuentre.\n",
    "print(a)"
   ]
  },
  {
   "cell_type": "code",
   "execution_count": 16,
   "metadata": {},
   "outputs": [
    {
     "name": "stdout",
     "output_type": "stream",
     "text": [
      "🔴\n"
     ]
    }
   ],
   "source": [
    "## Condicion switch case:\n",
    "color = '#FF0000'\n",
    "match color:\n",
    "    case '#FF0000':\n",
    "        print('🔴')\n",
    "    case '#00FF00':\n",
    "        print('🟢')\n",
    "    case '#0000FF':\n",
    "        print('🔵')"
   ]
  },
  {
   "cell_type": "code",
   "execution_count": 17,
   "metadata": {},
   "outputs": [],
   "source": [
    "#Que ocurre si el valor que queremos comparar no esta entre los casos:\n",
    "color = '#FF0001'\n",
    "match color:\n",
    "    case '#FF0000':\n",
    "        print('🔴')\n",
    "    case '#00FF00':\n",
    "        print('🟢')\n",
    "    case '#0000FF':\n",
    "        print('🔵')\n",
    "# Vemos que en este caso no se printea nada. Por lo tanto, hay que recoger el caso en que no haya coincidencias."
   ]
  },
  {
   "cell_type": "code",
   "execution_count": 18,
   "metadata": {},
   "outputs": [
    {
     "name": "stdout",
     "output_type": "stream",
     "text": [
      "Unknown color!\n"
     ]
    }
   ],
   "source": [
    "color = '#FF0001'\n",
    "match color:\n",
    "    case '#FF0000':\n",
    "        print('🔴')\n",
    "    case '#00FF00':\n",
    "        print('🟢')\n",
    "    case '#0000FF':\n",
    "        print('🔵')\n",
    "    case _:\n",
    "        print(\"Unknown color!\")"
   ]
  }
 ],
 "metadata": {
  "kernelspec": {
   "display_name": "Python 3",
   "language": "python",
   "name": "python3"
  },
  "language_info": {
   "codemirror_mode": {
    "name": "ipython",
    "version": 3
   },
   "file_extension": ".py",
   "mimetype": "text/x-python",
   "name": "python",
   "nbconvert_exporter": "python",
   "pygments_lexer": "ipython3",
   "version": "3.12.3"
  }
 },
 "nbformat": 4,
 "nbformat_minor": 2
}
