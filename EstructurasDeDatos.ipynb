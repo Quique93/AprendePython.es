{
 "cells": [
  {
   "cell_type": "code",
   "execution_count": 1,
   "metadata": {},
   "outputs": [],
   "source": [
    "#ESTRUCTURAS DE DATOS\n",
    "# Listas\n",
    "# Una lista como su propio nombre indica es una lista de elementos que no tienen por que compartir tipo.\n",
    "lista = []\n",
    "lista = ['Python',(1,2,3,4),{'cielo':'limpio','color':'azul'}]"
   ]
  },
  {
   "cell_type": "code",
   "execution_count": 2,
   "metadata": {},
   "outputs": [
    {
     "name": "stdout",
     "output_type": "stream",
     "text": [
      "<class 'str'>\n",
      "<class 'tuple'>\n",
      "<class 'dict'>\n"
     ]
    }
   ],
   "source": [
    "for i in range(0,len(lista)):\n",
    "    print(type(lista[i]))"
   ]
  },
  {
   "cell_type": "code",
   "execution_count": 4,
   "metadata": {},
   "outputs": [
    {
     "name": "stdout",
     "output_type": "stream",
     "text": [
      "['P', 'y', 't', 'h', 'o', 'n']\n",
      "[0, 1, 2, 3, 4, 5, 6, 7, 8, 9]\n"
     ]
    }
   ],
   "source": [
    "# Para convertir cualquier objeto en una lista, se utiliza la funcion list()\n",
    "texto = 'Python'\n",
    "lista = list(texto)\n",
    "print(lista)\n",
    "#Como sabemos, una cadena de strings no deja de ser un vector, en este caso un vector de 6 caracteres.\n",
    "lista2= list(range(0,10,1))\n",
    "print(lista2)"
   ]
  },
  {
   "cell_type": "code",
   "execution_count": 18,
   "metadata": {},
   "outputs": [
    {
     "name": "stdout",
     "output_type": "stream",
     "text": [
      "Python\n",
      "[(1, 2, 3, 4), {'cielo': 'limpio', 'color': 'azul'}, 55]\n",
      "[(1, 2, 3, 4)]\n",
      "[(1, 2, 3, 4), {'cielo': 'limpio', 'color': 'azul'}]\n",
      "[55, {'cielo': 'limpio', 'color': 'azul'}]\n",
      "[55, (1, 2, 3, 4)]\n",
      "[(1, 2, 3, 4), 55]\n"
     ]
    }
   ],
   "source": [
    "# Para acceder a un elemento de una lista, se realia entre [] teniendo en cuenta que el primer elemento tiene indice 0.\n",
    "lista = ['Python',(1,2,3,4),{'cielo':'limpio','color':'azul'},55]\n",
    "print(lista[0])\n",
    "print(lista[1:])\n",
    "print(lista[1:2])\n",
    "print(lista[1:3])\n",
    "print(lista[-1:-3:-1])\n",
    "print(lista[-1:-4:-2])\n",
    "print(lista[1:4:2])"
   ]
  },
  {
   "cell_type": "code",
   "execution_count": 20,
   "metadata": {},
   "outputs": [
    {
     "name": "stdout",
     "output_type": "stream",
     "text": [
      "['Python', (1, 2, 3, 4), {'cielo': 'limpio', 'color': 'azul'}, 55, 'Estoy añadiendo un elemento a la lista']\n"
     ]
    }
   ],
   "source": [
    "#Podemos añadir elementos nuevos a una lista utilizando la funcion append.\n",
    "lista = ['Python',(1,2,3,4),{'cielo':'limpio','color':'azul'},55]\n",
    "lista.append('Estoy añadiendo un elemento a la lista')\n",
    "print(lista)"
   ]
  },
  {
   "cell_type": "code",
   "execution_count": 21,
   "metadata": {},
   "outputs": [
    {
     "name": "stdout",
     "output_type": "stream",
     "text": [
      "['Python', 'Estoy añadiendo un elemento a la lista', (1, 2, 3, 4), {'cielo': 'limpio', 'color': 'azul'}, 55]\n"
     ]
    }
   ],
   "source": [
    "#append() añade un elemento al final de la lista sin alterar el orden del resto de elementos.\n",
    "#Si queremos introducir un elemento en un orden determinado, utilizamos la funcion insert()\n",
    "lista = ['Python',(1,2,3,4),{'cielo':'limpio','color':'azul'},55]\n",
    "lista.insert(1,'Estoy añadiendo un elemento a la lista')\n",
    "print(lista)"
   ]
  },
  {
   "cell_type": "code",
   "execution_count": 22,
   "metadata": {},
   "outputs": [
    {
     "data": {
      "text/plain": [
       "['Agua',\n",
       " 'Leche',\n",
       " 'Galletas',\n",
       " 'Agua',\n",
       " 'Leche',\n",
       " 'Galletas',\n",
       " 'Agua',\n",
       " 'Leche',\n",
       " 'Galletas']"
      ]
     },
     "execution_count": 22,
     "metadata": {},
     "output_type": "execute_result"
    }
   ],
   "source": [
    "# Podemos repetir los elementos de una lista usando el multiplicador *\n",
    "compras = ['Agua','Leche','Galletas']\n",
    "compras*3"
   ]
  },
  {
   "cell_type": "code",
   "execution_count": null,
   "metadata": {},
   "outputs": [],
   "source": []
  }
 ],
 "metadata": {
  "kernelspec": {
   "display_name": "Python 3",
   "language": "python",
   "name": "python3"
  },
  "language_info": {
   "codemirror_mode": {
    "name": "ipython",
    "version": 3
   },
   "file_extension": ".py",
   "mimetype": "text/x-python",
   "name": "python",
   "nbconvert_exporter": "python",
   "pygments_lexer": "ipython3",
   "version": "3.12.3"
  }
 },
 "nbformat": 4,
 "nbformat_minor": 2
}
