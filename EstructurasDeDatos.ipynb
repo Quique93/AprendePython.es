{
 "cells": [
  {
   "cell_type": "code",
   "execution_count": 1,
   "metadata": {},
   "outputs": [],
   "source": [
    "#ESTRUCTURAS DE DATOS\n",
    "# Listas\n",
    "# Una lista como su propio nombre indica es una lista de elementos que no tienen por que compartir tipo.\n",
    "lista = []\n",
    "lista = ['Python',(1,2,3,4),{'cielo':'limpio','color':'azul'}]"
   ]
  },
  {
   "cell_type": "code",
   "execution_count": 2,
   "metadata": {},
   "outputs": [
    {
     "name": "stdout",
     "output_type": "stream",
     "text": [
      "<class 'str'>\n",
      "<class 'tuple'>\n",
      "<class 'dict'>\n"
     ]
    }
   ],
   "source": [
    "for i in range(0,len(lista)):\n",
    "    print(type(lista[i]))"
   ]
  },
  {
   "cell_type": "code",
   "execution_count": 4,
   "metadata": {},
   "outputs": [
    {
     "name": "stdout",
     "output_type": "stream",
     "text": [
      "['P', 'y', 't', 'h', 'o', 'n']\n",
      "[0, 1, 2, 3, 4, 5, 6, 7, 8, 9]\n"
     ]
    }
   ],
   "source": [
    "# Para convertir cualquier objeto en una lista, se utiliza la funcion list()\n",
    "texto = 'Python'\n",
    "lista = list(texto)\n",
    "print(lista)\n",
    "#Como sabemos, una cadena de strings no deja de ser un vector, en este caso un vector de 6 caracteres.\n",
    "lista2= list(range(0,10,1))\n",
    "print(lista2)"
   ]
  },
  {
   "cell_type": "code",
   "execution_count": 18,
   "metadata": {},
   "outputs": [
    {
     "name": "stdout",
     "output_type": "stream",
     "text": [
      "Python\n",
      "[(1, 2, 3, 4), {'cielo': 'limpio', 'color': 'azul'}, 55]\n",
      "[(1, 2, 3, 4)]\n",
      "[(1, 2, 3, 4), {'cielo': 'limpio', 'color': 'azul'}]\n",
      "[55, {'cielo': 'limpio', 'color': 'azul'}]\n",
      "[55, (1, 2, 3, 4)]\n",
      "[(1, 2, 3, 4), 55]\n"
     ]
    }
   ],
   "source": [
    "# Para acceder a un elemento de una lista, se realia entre [] teniendo en cuenta que el primer elemento tiene indice 0.\n",
    "lista = ['Python',(1,2,3,4),{'cielo':'limpio','color':'azul'},55]\n",
    "print(lista[0])\n",
    "print(lista[1:])\n",
    "print(lista[1:2])\n",
    "print(lista[1:3])\n",
    "print(lista[-1:-3:-1])\n",
    "print(lista[-1:-4:-2])\n",
    "print(lista[1:4:2])"
   ]
  },
  {
   "cell_type": "code",
   "execution_count": 20,
   "metadata": {},
   "outputs": [
    {
     "name": "stdout",
     "output_type": "stream",
     "text": [
      "['Python', (1, 2, 3, 4), {'cielo': 'limpio', 'color': 'azul'}, 55, 'Estoy añadiendo un elemento a la lista']\n"
     ]
    }
   ],
   "source": [
    "#Podemos añadir elementos nuevos a una lista utilizando la funcion append.\n",
    "lista = ['Python',(1,2,3,4),{'cielo':'limpio','color':'azul'},55]\n",
    "lista.append('Estoy añadiendo un elemento a la lista')\n",
    "print(lista)"
   ]
  },
  {
   "cell_type": "code",
   "execution_count": 21,
   "metadata": {},
   "outputs": [
    {
     "name": "stdout",
     "output_type": "stream",
     "text": [
      "['Python', 'Estoy añadiendo un elemento a la lista', (1, 2, 3, 4), {'cielo': 'limpio', 'color': 'azul'}, 55]\n"
     ]
    }
   ],
   "source": [
    "#append() añade un elemento al final de la lista sin alterar el orden del resto de elementos.\n",
    "#Si queremos introducir un elemento en un orden determinado, utilizamos la funcion insert()\n",
    "lista = ['Python',(1,2,3,4),{'cielo':'limpio','color':'azul'},55]\n",
    "lista.insert(1,'Estoy añadiendo un elemento a la lista')\n",
    "print(lista)"
   ]
  },
  {
   "cell_type": "code",
   "execution_count": 22,
   "metadata": {},
   "outputs": [
    {
     "data": {
      "text/plain": [
       "['Agua',\n",
       " 'Leche',\n",
       " 'Galletas',\n",
       " 'Agua',\n",
       " 'Leche',\n",
       " 'Galletas',\n",
       " 'Agua',\n",
       " 'Leche',\n",
       " 'Galletas']"
      ]
     },
     "execution_count": 22,
     "metadata": {},
     "output_type": "execute_result"
    }
   ],
   "source": [
    "# Podemos repetir los elementos de una lista usando el multiplicador *\n",
    "compras = ['Agua','Leche','Galletas']\n",
    "compras*3"
   ]
  },
  {
   "cell_type": "code",
   "execution_count": 29,
   "metadata": {},
   "outputs": [
    {
     "name": "stdout",
     "output_type": "stream",
     "text": [
      "['Agua', 'Pan', 'Cereales', 'Manzana', 'Pera', 'Platano']\n"
     ]
    }
   ],
   "source": [
    "# Como era de esperar, podemos juntar dos listas sin problema\n",
    "compras_super = ['Agua','Pan','Cereales']\n",
    "compras_fruteria = ['Manzana','Pera','Platano']\n",
    "compras_super.extend(compras_fruteria)\n",
    "print(compras_super)"
   ]
  },
  {
   "cell_type": "code",
   "execution_count": 30,
   "metadata": {},
   "outputs": [
    {
     "name": "stdout",
     "output_type": "stream",
     "text": [
      "['Agua', 'Pan', 'Cereales', ['Manzana', 'Pera', 'Platano']]\n"
     ]
    }
   ],
   "source": [
    "#Ojo por que en este caso la funcion append lo que haria seria insertar en la lista original\n",
    "# UN UNICO ELEMENTO QUE ES UNA LISTA\n",
    "compras_super = ['Agua','Pan','Cereales']\n",
    "compras_fruteria = ['Manzana','Pera','Platano']\n",
    "compras_super.append(compras_fruteria)\n",
    "print(compras_super)"
   ]
  },
  {
   "cell_type": "code",
   "execution_count": 35,
   "metadata": {},
   "outputs": [
    {
     "name": "stdout",
     "output_type": "stream",
     "text": [
      "['Agua', 'Pan', 'Cereales']\n",
      "['Agua', 'Pan', 'Cerveza']\n",
      "['Agua', 'Pan', 'Cereales']\n",
      "['Agua', 'Atun', 'Chocolate']\n",
      "['Agua', 'Atun', 'Patatas', 'Pan de molde', 'Pizza congelada']\n"
     ]
    }
   ],
   "source": [
    "# Se puede modificar una lista o un elemento de la lista simplemente accediendo con el indice\n",
    "compras_super = ['Agua','Pan','Cereales']\n",
    "print(compras_super)\n",
    "compras_super[2]='Cerveza'\n",
    "print(compras_super)\n",
    "# Lo que hace intuir que se puede modificar una lista con el troceado. Substituyamos Pan y Cereales a la vez\n",
    "compras_super = ['Agua','Pan','Cereales']\n",
    "print(compras_super)\n",
    "compras_super[1:] =['Atun','Chocolate']\n",
    "print(compras_super)\n",
    "compras_super[2:] = ['Patatas','Pan de molde','Pizza congelada']\n",
    "print(compras_super)"
   ]
  },
  {
   "cell_type": "code",
   "execution_count": 36,
   "metadata": {},
   "outputs": [
    {
     "name": "stdout",
     "output_type": "stream",
     "text": [
      "['Agua', 'Atun', 'Patatas', 'Pan de molde', 'Pizza congelada']\n",
      "['Agua', 'Atun', 'Patatas', 'Pizza congelada']\n"
     ]
    }
   ],
   "source": [
    "#Igual nos interesa eliminar algun elemento intermedio sin tener que trocear la lista y volverla a juntar.\n",
    "print(compras_super)\n",
    "del compras_super[3]\n",
    "print(compras_super)"
   ]
  },
  {
   "cell_type": "code",
   "execution_count": 39,
   "metadata": {},
   "outputs": [
    {
     "name": "stdout",
     "output_type": "stream",
     "text": [
      "['Agua', 'Atun', 'Patatas', 'Pizza congelada']\n",
      "['Agua', 'Atun', 'Pizza congelada']\n"
     ]
    }
   ],
   "source": [
    "# Tambien podemos eliminar un elemento de la lista con la funcion remove indicando que elemento queremos borrar.\n",
    "print(compras_super)\n",
    "compras_super.remove('Patatas')\n",
    "print(compras_super)\n",
    "# Si pasamos un elemento que no existe python nos devolvera error."
   ]
  },
  {
   "cell_type": "code",
   "execution_count": 41,
   "metadata": {},
   "outputs": [
    {
     "name": "stdout",
     "output_type": "stream",
     "text": [
      "Aceite\n",
      "['Agua', 'Huevos', 'Sal', 'Limón']\n"
     ]
    }
   ],
   "source": [
    "# La funcion pop de las listas: nos permite extraer elementos y guardarlos (se elimina de la lista y se puede guardar)\n",
    "# a diferencia de las otras funciones\n",
    "compras = ['Agua', 'Huevos', 'Aceite', 'Sal', 'Limón']\n",
    "producto = compras.pop(2)\n",
    "print(producto)\n",
    "print(compras) "
   ]
  },
  {
   "cell_type": "code",
   "execution_count": 42,
   "metadata": {},
   "outputs": [
    {
     "name": "stdout",
     "output_type": "stream",
     "text": [
      "[]\n"
     ]
    }
   ],
   "source": [
    "# Para borrar una lista se puede utilizar la funcion clear() o simplemente asignar =[]\n",
    "compras = ['Agua', 'Huevos', 'Aceite', 'Sal', 'Limón']\n",
    "compras.clear()\n",
    "print(compras)"
   ]
  },
  {
   "cell_type": "code",
   "execution_count": 46,
   "metadata": {},
   "outputs": [
    {
     "data": {
      "text/plain": [
       "1"
      ]
     },
     "execution_count": 46,
     "metadata": {},
     "output_type": "execute_result"
    }
   ],
   "source": [
    "# Podemos encontrar un elemento de la lista (siempre que exista). Esto nos devolvera el indice.\n",
    "compras = ['Agua', 'Huevos', 'Aceite', 'Sal', 'Limón']\n",
    "compras.index('Huevos')"
   ]
  },
  {
   "cell_type": "code",
   "execution_count": 45,
   "metadata": {},
   "outputs": [
    {
     "name": "stdout",
     "output_type": "stream",
     "text": [
      "True\n",
      "False\n"
     ]
    }
   ],
   "source": [
    "# Podemos comprobar si un elemento pertenece a la lista con la funcion in\n",
    "print('Agua' in compras)\n",
    "print('Patatas' in compras)"
   ]
  },
  {
   "cell_type": "code",
   "execution_count": 61,
   "metadata": {},
   "outputs": [
    {
     "name": "stdout",
     "output_type": "stream",
     "text": [
      "2\n",
      "1\n",
      "6\n"
     ]
    }
   ],
   "source": [
    "# Se puede contar el numero de ocurrencias que hay en una lista con la funcion count()\n",
    "compras = ['Agua', 'Huevos', 'Aceite', 'Sal', 'Limón','Huevos']\n",
    "print(compras.count('Huevos'))\n",
    "print(compras.count('Agua'))\n",
    "print((compras:=compras*3).count('Huevos'))"
   ]
  },
  {
   "cell_type": "code",
   "execution_count": 66,
   "metadata": {},
   "outputs": [
    {
     "name": "stdout",
     "output_type": "stream",
     "text": [
      "['H', 'o', 'l', 'a', ' ', 'q', 'u', 'e', ' ', 't', 'a', 'l', ' ', 'm', 'e', ' ', 'l', 'l', 'a', 'm', 'o', ' ', 'J', 'u', 'a', 'n', ' ', 'E', 'n', 'r', 'i', 'q', 'u', 'e', ' ', 'G', 'a', 'r', 'c', 'i', 'a']\n",
      "['Hola', 'que', 'tal', 'me', 'llamo', 'Juan', 'Enrique', 'Garcia']\n",
      "['Hola que tal me llamo Juan Enrique Garcia']\n"
     ]
    }
   ],
   "source": [
    "# Una forma de pasar de texto a lista es utilizando la funcion split. \n",
    "# Por ejemplo:\n",
    "texto = \"Hola que tal me llamo Juan Enrique Garcia\"\n",
    "print(list(texto))\n",
    "print(texto.split(sep=\" \"))\n",
    "print(texto.split(sep=\"\\n\"))"
   ]
  },
  {
   "cell_type": "code",
   "execution_count": 4,
   "metadata": {},
   "outputs": [
    {
     "name": "stdout",
     "output_type": "stream",
     "text": [
      "Agua,Huevos,Aceite,Sal,Limón\n",
      "Agua Huevos Aceite Sal Limón\n"
     ]
    },
    {
     "ename": "TypeError",
     "evalue": "sequence item 0: expected str instance, int found",
     "output_type": "error",
     "traceback": [
      "\u001b[1;31m---------------------------------------------------------------------------\u001b[0m",
      "\u001b[1;31mTypeError\u001b[0m                                 Traceback (most recent call last)",
      "Cell \u001b[1;32mIn[4], line 7\u001b[0m\n\u001b[0;32m      5\u001b[0m \u001b[38;5;28mprint\u001b[39m(\u001b[38;5;124m'\u001b[39m\u001b[38;5;124m \u001b[39m\u001b[38;5;124m'\u001b[39m\u001b[38;5;241m.\u001b[39mjoin(lista))\n\u001b[0;32m      6\u001b[0m lista \u001b[38;5;241m=\u001b[39m [\u001b[38;5;241m1\u001b[39m,\u001b[38;5;241m2\u001b[39m,\u001b[38;5;241m3\u001b[39m,\u001b[38;5;241m4\u001b[39m,\u001b[38;5;241m5\u001b[39m]\n\u001b[1;32m----> 7\u001b[0m \u001b[38;5;124;43m'\u001b[39;49m\u001b[38;5;124;43m.\u001b[39;49m\u001b[38;5;124;43m'\u001b[39;49m\u001b[38;5;241;43m.\u001b[39;49m\u001b[43mjoin\u001b[49m\u001b[43m(\u001b[49m\u001b[43mlista\u001b[49m\u001b[43m)\u001b[49m\n",
      "\u001b[1;31mTypeError\u001b[0m: sequence item 0: expected str instance, int found"
     ]
    }
   ],
   "source": [
    "# Data una lista, se pueden unir sus elementos como una cadena de texto \n",
    "# SI Y SOLO SI TODOS SUS ELEMENTOS SON DEL TIPO STR.\n",
    "lista = ['Agua', 'Huevos', 'Aceite', 'Sal', 'Limón']\n",
    "print(','.join(lista))\n",
    "print(' '.join(lista))\n",
    "lista = [1,2,3,4,5]\n",
    "'.'.join(lista) # este comando da error porque sus elementos no son str."
   ]
  },
  {
   "cell_type": "code",
   "execution_count": 11,
   "metadata": {},
   "outputs": [
    {
     "name": "stdout",
     "output_type": "stream",
     "text": [
      "['Aceite', 'Agua', 'Huevos', 'Limón', 'Sal']\n",
      "['Sal', 'Limón', 'Huevos', 'Agua', 'Aceite']\n"
     ]
    }
   ],
   "source": [
    "# Se pueden ordenar los elementos de una lista con la funcion sort() o sorted()\n",
    "lista = ['Agua', 'Huevos', 'Aceite', 'Sal', 'Limón']\n",
    "print(sorted(lista))\n",
    "lista.sort(reverse=True)\n",
    "print(lista)\n",
    "# si nos fijamos, la funcion list.sort() cambia la lista original por la lista ordenada."
   ]
  },
  {
   "cell_type": "code",
   "execution_count": 12,
   "metadata": {},
   "outputs": [
    {
     "name": "stdout",
     "output_type": "stream",
     "text": [
      "Agua\n",
      "Huevos\n",
      "Aceite\n",
      "Sal\n",
      "Limón\n"
     ]
    }
   ],
   "source": [
    "# Data una lista, podemos iterar sobre la misma\n",
    "lista = ['Agua', 'Huevos', 'Aceite', 'Sal', 'Limón']\n",
    "for i in lista:\n",
    "    print(i)"
   ]
  },
  {
   "cell_type": "code",
   "execution_count": 24,
   "metadata": {},
   "outputs": [
    {
     "name": "stdout",
     "output_type": "stream",
     "text": [
      "0 Agua\n",
      "1 Huevos\n",
      "2 Aceite\n",
      "3 Sal\n",
      "4 Limón\n",
      "<class 'enumerate'>\n"
     ]
    }
   ],
   "source": [
    "# La funcion enumerate nos permite saber que indice tiene cada elemento de la lista si \n",
    "# realizamos un bucle que nos printee ambos.\n",
    "compras = ['Agua', 'Huevos', 'Aceite', 'Sal', 'Limón']\n",
    "for i,producto in enumerate(compras):\n",
    "    print(i,producto)\n",
    "print(type(enumerate(compras))) # Vemos que enumerate(compras) produce un iterador, no una lista ni diccionario!!"
   ]
  },
  {
   "cell_type": "code",
   "execution_count": 25,
   "metadata": {},
   "outputs": [
    {
     "name": "stdout",
     "output_type": "stream",
     "text": [
      "Agua mineral natural\n",
      "Aceite de oliva virgen\n",
      "Arroz basmati\n"
     ]
    }
   ],
   "source": [
    "# Se pueden unir dos listas diferentes con la funcion zip()\n",
    "# La funcion zip tambien producira un iterador pero realizando list(zip()) obtendremos una lista fusionada \n",
    "# elemento a elemento.\n",
    "compras = ['Agua', 'Aceite', 'Arroz','Patatas']\n",
    "detalles = ['mineral natural', 'de oliva virgen', 'basmati']\n",
    "for i,j in zip(compras,detalles):\n",
    "    print(i,j)\n",
    "# Observamos que compras tiene un elemento mas que detalles. zip se parara teniendo en cuenta la lista mas corta."
   ]
  },
  {
   "cell_type": "code",
   "execution_count": 27,
   "metadata": {},
   "outputs": [
    {
     "name": "stdout",
     "output_type": "stream",
     "text": [
      "[('Agua', 'mineral natural'), ('Aceite', 'de oliva virgen'), ('Arroz', 'basmati')]\n"
     ]
    }
   ],
   "source": [
    "compras_detalles = list(zip(compras,detalles))\n",
    "print(compras_detalles)"
   ]
  },
  {
   "cell_type": "code",
   "execution_count": 32,
   "metadata": {},
   "outputs": [
    {
     "name": "stdout",
     "output_type": "stream",
     "text": [
      "True\n",
      "False\n"
     ]
    }
   ],
   "source": [
    "#Python tambien permite comparar listas comparando elemento a elemento introduciendo un orden interno.\n",
    "lista1 = [1,2,3]\n",
    "lista2 = [1,4,1]\n",
    "print(lista1<lista2)\n",
    "lista2 = [1,1,1]\n",
    "print(lista1<lista2)"
   ]
  },
  {
   "cell_type": "code",
   "execution_count": 34,
   "metadata": {},
   "outputs": [
    {
     "name": "stdout",
     "output_type": "stream",
     "text": [
      "True\n",
      "False\n"
     ]
    }
   ],
   "source": [
    "lista1 = ['Aceite','Leche','Pan']\n",
    "lista2 = ['Alcachofas','Lechuga','Pimiento']\n",
    "print(lista1<lista2)\n",
    "lista1 = ['Leche','Pan','Aceite']\n",
    "lista2 = ['Alcachofas','Lechuga','Pimiento']\n",
    "print(lista1<lista2)"
   ]
  },
  {
   "cell_type": "code",
   "execution_count": null,
   "metadata": {},
   "outputs": [],
   "source": []
  }
 ],
 "metadata": {
  "kernelspec": {
   "display_name": "Python 3",
   "language": "python",
   "name": "python3"
  },
  "language_info": {
   "codemirror_mode": {
    "name": "ipython",
    "version": 3
   },
   "file_extension": ".py",
   "mimetype": "text/x-python",
   "name": "python",
   "nbconvert_exporter": "python",
   "pygments_lexer": "ipython3",
   "version": "3.12.3"
  }
 },
 "nbformat": 4,
 "nbformat_minor": 2
}
