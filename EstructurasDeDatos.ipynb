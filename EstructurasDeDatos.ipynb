{
 "cells": [
  {
   "cell_type": "code",
   "execution_count": null,
   "metadata": {},
   "outputs": [],
   "source": [
    "#ESTRUCTURAS DE DATOS\n",
    "# Listas\n",
    "# Una lista como su propio nombre indica es una lista de elementos que no tienen por que compartir tipo.\n",
    "lista = []\n",
    "lista = ['Python',(1,2,3,4),{'cielo':'limpio','color':'azul'}]"
   ]
  },
  {
   "cell_type": "code",
   "execution_count": null,
   "metadata": {},
   "outputs": [],
   "source": [
    "for i in range(0,len(lista)):\n",
    "    print(type(lista[i]))"
   ]
  },
  {
   "cell_type": "code",
   "execution_count": null,
   "metadata": {},
   "outputs": [],
   "source": [
    "# Para convertir cualquier objeto en una lista, se utiliza la funcion list()\n",
    "texto = 'Python'\n",
    "lista = list(texto)\n",
    "print(lista)\n",
    "#Como sabemos, una cadena de strings no deja de ser un vector, en este caso un vector de 6 caracteres.\n",
    "lista2= list(range(0,10,1))\n",
    "print(lista2)"
   ]
  },
  {
   "cell_type": "code",
   "execution_count": null,
   "metadata": {},
   "outputs": [],
   "source": [
    "# Para acceder a un elemento de una lista, se realia entre [] teniendo en cuenta que el primer elemento tiene indice 0.\n",
    "lista = ['Python',(1,2,3,4),{'cielo':'limpio','color':'azul'},55]\n",
    "print(lista[0])\n",
    "print(lista[1:])\n",
    "print(lista[1:2])\n",
    "print(lista[1:3])\n",
    "print(lista[-1:-3:-1])\n",
    "print(lista[-1:-4:-2])\n",
    "print(lista[1:4:2])"
   ]
  },
  {
   "cell_type": "code",
   "execution_count": null,
   "metadata": {},
   "outputs": [],
   "source": [
    "#Podemos añadir elementos nuevos a una lista utilizando la funcion append.\n",
    "lista = ['Python',(1,2,3,4),{'cielo':'limpio','color':'azul'},55]\n",
    "lista.append('Estoy añadiendo un elemento a la lista')\n",
    "print(lista)"
   ]
  },
  {
   "cell_type": "code",
   "execution_count": null,
   "metadata": {},
   "outputs": [],
   "source": [
    "#append() añade un elemento al final de la lista sin alterar el orden del resto de elementos.\n",
    "#Si queremos introducir un elemento en un orden determinado, utilizamos la funcion insert()\n",
    "lista = ['Python',(1,2,3,4),{'cielo':'limpio','color':'azul'},55]\n",
    "lista.insert(1,'Estoy añadiendo un elemento a la lista')\n",
    "print(lista)"
   ]
  },
  {
   "cell_type": "code",
   "execution_count": null,
   "metadata": {},
   "outputs": [],
   "source": [
    "# Podemos repetir los elementos de una lista usando el multiplicador *\n",
    "compras = ['Agua','Leche','Galletas']\n",
    "compras*3"
   ]
  },
  {
   "cell_type": "code",
   "execution_count": null,
   "metadata": {},
   "outputs": [],
   "source": [
    "# Como era de esperar, podemos juntar dos listas sin problema\n",
    "compras_super = ['Agua','Pan','Cereales']\n",
    "compras_fruteria = ['Manzana','Pera','Platano']\n",
    "compras_super.extend(compras_fruteria)\n",
    "print(compras_super)"
   ]
  },
  {
   "cell_type": "code",
   "execution_count": null,
   "metadata": {},
   "outputs": [],
   "source": [
    "#Ojo por que en este caso la funcion append lo que haria seria insertar en la lista original\n",
    "# UN UNICO ELEMENTO QUE ES UNA LISTA\n",
    "compras_super = ['Agua','Pan','Cereales']\n",
    "compras_fruteria = ['Manzana','Pera','Platano']\n",
    "compras_super.append(compras_fruteria)\n",
    "print(compras_super)"
   ]
  },
  {
   "cell_type": "code",
   "execution_count": null,
   "metadata": {},
   "outputs": [],
   "source": [
    "# Se puede modificar una lista o un elemento de la lista simplemente accediendo con el indice\n",
    "compras_super = ['Agua','Pan','Cereales']\n",
    "print(compras_super)\n",
    "compras_super[2]='Cerveza'\n",
    "print(compras_super)\n",
    "# Lo que hace intuir que se puede modificar una lista con el troceado. Substituyamos Pan y Cereales a la vez\n",
    "compras_super = ['Agua','Pan','Cereales']\n",
    "print(compras_super)\n",
    "compras_super[1:] =['Atun','Chocolate']\n",
    "print(compras_super)\n",
    "compras_super[2:] = ['Patatas','Pan de molde','Pizza congelada']\n",
    "print(compras_super)"
   ]
  },
  {
   "cell_type": "code",
   "execution_count": null,
   "metadata": {},
   "outputs": [],
   "source": [
    "#Igual nos interesa eliminar algun elemento intermedio sin tener que trocear la lista y volverla a juntar.\n",
    "print(compras_super)\n",
    "del compras_super[3]\n",
    "print(compras_super)"
   ]
  },
  {
   "cell_type": "code",
   "execution_count": null,
   "metadata": {},
   "outputs": [],
   "source": [
    "# Tambien podemos eliminar un elemento de la lista con la funcion remove indicando que elemento queremos borrar.\n",
    "print(compras_super)\n",
    "compras_super.remove('Patatas')\n",
    "print(compras_super)\n",
    "# Si pasamos un elemento que no existe python nos devolvera error."
   ]
  },
  {
   "cell_type": "code",
   "execution_count": null,
   "metadata": {},
   "outputs": [],
   "source": [
    "# La funcion pop de las listas: nos permite extraer elementos y guardarlos (se elimina de la lista y se puede guardar)\n",
    "# a diferencia de las otras funciones\n",
    "compras = ['Agua', 'Huevos', 'Aceite', 'Sal', 'Limón']\n",
    "producto = compras.pop(2)\n",
    "print(producto)\n",
    "print(compras) "
   ]
  },
  {
   "cell_type": "code",
   "execution_count": null,
   "metadata": {},
   "outputs": [],
   "source": [
    "# Para borrar una lista se puede utilizar la funcion clear() o simplemente asignar =[]\n",
    "compras = ['Agua', 'Huevos', 'Aceite', 'Sal', 'Limón']\n",
    "compras.clear()\n",
    "print(compras)"
   ]
  },
  {
   "cell_type": "code",
   "execution_count": null,
   "metadata": {},
   "outputs": [],
   "source": [
    "# Podemos encontrar un elemento de la lista (siempre que exista). Esto nos devolvera el indice.\n",
    "compras = ['Agua', 'Huevos', 'Aceite', 'Sal', 'Limón']\n",
    "compras.index('Huevos')"
   ]
  },
  {
   "cell_type": "code",
   "execution_count": null,
   "metadata": {},
   "outputs": [],
   "source": [
    "# Podemos comprobar si un elemento pertenece a la lista con la funcion in\n",
    "print('Agua' in compras)\n",
    "print('Patatas' in compras)"
   ]
  },
  {
   "cell_type": "code",
   "execution_count": null,
   "metadata": {},
   "outputs": [],
   "source": [
    "# Se puede contar el numero de ocurrencias que hay en una lista con la funcion count()\n",
    "compras = ['Agua', 'Huevos', 'Aceite', 'Sal', 'Limón','Huevos']\n",
    "print(compras.count('Huevos'))\n",
    "print(compras.count('Agua'))\n",
    "print((compras:=compras*3).count('Huevos'))"
   ]
  },
  {
   "cell_type": "code",
   "execution_count": null,
   "metadata": {},
   "outputs": [],
   "source": [
    "# Una forma de pasar de texto a lista es utilizando la funcion split. \n",
    "# Por ejemplo:\n",
    "texto = \"Hola que tal me llamo Juan Enrique Garcia\"\n",
    "print(list(texto))\n",
    "print(texto.split(sep=\" \"))\n",
    "print(texto.split(sep=\"\\n\"))"
   ]
  },
  {
   "cell_type": "code",
   "execution_count": null,
   "metadata": {},
   "outputs": [],
   "source": [
    "# Data una lista, se pueden unir sus elementos como una cadena de texto \n",
    "# SI Y SOLO SI TODOS SUS ELEMENTOS SON DEL TIPO STR.\n",
    "lista = ['Agua', 'Huevos', 'Aceite', 'Sal', 'Limón']\n",
    "print(','.join(lista))\n",
    "print(' '.join(lista))\n",
    "lista = [1,2,3,4,5]\n",
    "'.'.join(lista) # este comando da error porque sus elementos no son str."
   ]
  },
  {
   "cell_type": "code",
   "execution_count": null,
   "metadata": {},
   "outputs": [],
   "source": [
    "# Se pueden ordenar los elementos de una lista con la funcion sort() o sorted()\n",
    "lista = ['Agua', 'Huevos', 'Aceite', 'Sal', 'Limón']\n",
    "print(sorted(lista))\n",
    "lista.sort(reverse=True)\n",
    "print(lista)\n",
    "# si nos fijamos, la funcion list.sort() cambia la lista original por la lista ordenada."
   ]
  },
  {
   "cell_type": "code",
   "execution_count": null,
   "metadata": {},
   "outputs": [],
   "source": [
    "# Data una lista, podemos iterar sobre la misma\n",
    "lista = ['Agua', 'Huevos', 'Aceite', 'Sal', 'Limón']\n",
    "for i in lista:\n",
    "    print(i)"
   ]
  },
  {
   "cell_type": "code",
   "execution_count": null,
   "metadata": {},
   "outputs": [],
   "source": [
    "# La funcion enumerate nos permite saber que indice tiene cada elemento de la lista si \n",
    "# realizamos un bucle que nos printee ambos.\n",
    "compras = ['Agua', 'Huevos', 'Aceite', 'Sal', 'Limón']\n",
    "for i,producto in enumerate(compras):\n",
    "    print(i,producto)\n",
    "print(type(enumerate(compras))) # Vemos que enumerate(compras) produce un iterador, no una lista ni diccionario!!"
   ]
  },
  {
   "cell_type": "code",
   "execution_count": null,
   "metadata": {},
   "outputs": [],
   "source": [
    "# Se pueden unir dos listas diferentes con la funcion zip()\n",
    "# La funcion zip tambien producira un iterador pero realizando list(zip()) obtendremos una lista fusionada \n",
    "# elemento a elemento.\n",
    "compras = ['Agua', 'Aceite', 'Arroz','Patatas']\n",
    "detalles = ['mineral natural', 'de oliva virgen', 'basmati']\n",
    "for i,j in zip(compras,detalles):\n",
    "    print(i,j)\n",
    "# Observamos que compras tiene un elemento mas que detalles. zip se parara teniendo en cuenta la lista mas corta."
   ]
  },
  {
   "cell_type": "code",
   "execution_count": null,
   "metadata": {},
   "outputs": [],
   "source": [
    "compras_detalles = list(zip(compras,detalles))\n",
    "print(compras_detalles)"
   ]
  },
  {
   "cell_type": "code",
   "execution_count": null,
   "metadata": {},
   "outputs": [],
   "source": [
    "#Python tambien permite comparar listas comparando elemento a elemento introduciendo un orden interno.\n",
    "lista1 = [1,2,3]\n",
    "lista2 = [1,4,1]\n",
    "print(lista1<lista2)\n",
    "lista2 = [1,1,1]\n",
    "print(lista1<lista2)"
   ]
  },
  {
   "cell_type": "code",
   "execution_count": null,
   "metadata": {},
   "outputs": [],
   "source": [
    "lista1 = ['Aceite','Leche','Pan']\n",
    "lista2 = ['Alcachofas','Lechuga','Pimiento']\n",
    "print(lista1<lista2)\n",
    "lista1 = ['Leche','Pan','Aceite']\n",
    "lista2 = ['Alcachofas','Lechuga','Pimiento']\n",
    "print(lista1<lista2)"
   ]
  },
  {
   "cell_type": "code",
   "execution_count": null,
   "metadata": {},
   "outputs": [],
   "source": [
    "# A veces es util en programacion verificar si varias condiciones se cumplen.\n",
    "# Hay dos funciones bult in que ofrecen esta posibilidad: all() y any()\n",
    "# Estas dos funciones operan sobre iterables, y una lista puede ser un iterable.\n",
    "palabra = \"Python\"\n",
    "tamaño_minimo = 4\n",
    "empieza_bien = palabra.startswith(\"P\")\n",
    "existe_y = palabra.count('y')>=1\n",
    "## Todas variables son variables booleanas. Podemos crear una lista de variables booleanas y aplicar las funciones\n",
    "# anteriores.\n",
    "print(all([tamaño_minimo,empieza_bien,existe_y]))"
   ]
  },
  {
   "cell_type": "code",
   "execution_count": null,
   "metadata": {},
   "outputs": [],
   "source": [
    "palabra = \"Python\"\n",
    "tamaño_minimo = 4\n",
    "empieza_bien = palabra.startswith(\"P\")\n",
    "existe_y = palabra.count('y')>1\n",
    "print(all([tamaño_minimo,empieza_bien,existe_y]))"
   ]
  },
  {
   "cell_type": "code",
   "execution_count": null,
   "metadata": {},
   "outputs": [],
   "source": [
    "# La funcion any() comprueba si al menos una de las condiciones es True. En este caso devolvera True.\n",
    "palabra = \"Python\"\n",
    "tamaño_minimo = 4\n",
    "empieza_bien = palabra.startswith(\"P\")\n",
    "existe_y = palabra.count('y')>1\n",
    "print(any([tamaño_minimo,empieza_bien,existe_y]))"
   ]
  },
  {
   "cell_type": "code",
   "execution_count": null,
   "metadata": {},
   "outputs": [],
   "source": [
    "# Lista por comprension.\n",
    "# Podemos crear listas utilizando un bucle, por ejemplo un bucle que vaya añadiendo elementos a una lista vacia\n",
    "# si se cumple alguna condicion.\n",
    "# Pero existe una forma mas compacta de crear una lista: list comprehension.\n",
    "# Estructura:\n",
    "#[Valor for Valor in <iterable> if <condicion>]\n",
    "\n",
    "valores = '32,45,11,8789,5454,55'\n",
    "lista_valores = [valor for valor in valores.split(\",\")]\n",
    "print(lista_valores)"
   ]
  },
  {
   "cell_type": "code",
   "execution_count": null,
   "metadata": {},
   "outputs": [],
   "source": [
    "valores = '32,45,11,8789,5454,55'\n",
    "lista_valores = [int(valor) for valor in valores.split(\",\") if(int(valor))>100]\n",
    "print(lista_valores)"
   ]
  },
  {
   "cell_type": "code",
   "execution_count": null,
   "metadata": {},
   "outputs": [],
   "source": [
    "valores = 'Hola me llamo Juan, que tal. Vamos a hacer una prueba.'\n",
    "lista_valores = [valor for valor in valores.split(\" \") if 'o' in valor]\n",
    "print(lista_valores)"
   ]
  },
  {
   "cell_type": "code",
   "execution_count": null,
   "metadata": {},
   "outputs": [],
   "source": [
    "valores = 'Hola,Que,Tal,Combinacion,Letras'\n",
    "valores_spliteados = valores.split(',')\n",
    "lista_valores = [f'{v1} x {v2}' for v1 in valores_spliteados for v2 in valores_spliteados]\n",
    "lista_valores"
   ]
  },
  {
   "cell_type": "code",
   "execution_count": null,
   "metadata": {},
   "outputs": [],
   "source": [
    "# La funcion de la clase sys que es sys.argv nos permite a elementos introducidos por consola cuando se ejecuta un\n",
    "# programa de python.\n",
    "# Por ejemplo, creemos un script de pyhton (.py) que contenga lo siguiente:\n",
    "import sys\n",
    "\n",
    "#sys.argv[0] es el nombre del script cuando lo ejecutamos por consola\n",
    "numero_introducido = int(sys.argv[1])\n",
    "numero_a_multiplicar = int(sys.argv[2])\n",
    "print(numero_a_multiplicar*numero_introducido)\n",
    "\n",
    "# Lo guardamos como prueba_consola.py en la ruta C:\\Users\\garci\\EjerciciosPythonAprende y ejecutamos desde ahi por consola.\n",
    "# Ejecutamos python prueba_consola.py 2 5"
   ]
  },
  {
   "cell_type": "code",
   "execution_count": 27,
   "metadata": {},
   "outputs": [
    {
     "name": "stdout",
     "output_type": "stream",
     "text": [
      "La media de los valores introducidos es: 5.0\n"
     ]
    }
   ],
   "source": [
    "from numpy import mean\n",
    "\n",
    "valores_introducidos = [5,5]\n",
    "media = mean(valores_introducidos)\n",
    "print(f'La media de los valores introducidos es: {media}')"
   ]
  }
 ],
 "metadata": {
  "kernelspec": {
   "display_name": "Python 3",
   "language": "python",
   "name": "python3"
  },
  "language_info": {
   "codemirror_mode": {
    "name": "ipython",
    "version": 3
   },
   "file_extension": ".py",
   "mimetype": "text/x-python",
   "name": "python",
   "nbconvert_exporter": "python",
   "pygments_lexer": "ipython3",
   "version": "3.12.3"
  }
 },
 "nbformat": 4,
 "nbformat_minor": 2
}
