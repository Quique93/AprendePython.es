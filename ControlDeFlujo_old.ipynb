{
 "cells": [
  {
   "cell_type": "code",
   "execution_count": null,
   "metadata": {},
   "outputs": [],
   "source": [
    "# CONTROL DE FLUJO: Condicionales\n",
    "## LA SENTENCIA IF\n",
    "temperatura = 40\n",
    "if temperatura > 35:\n",
    "    print('Aviso por alta temperatura')"
   ]
  },
  {
   "cell_type": "code",
   "execution_count": null,
   "metadata": {},
   "outputs": [],
   "source": [
    "## LA SENTENCIA IFELSE\n",
    "temperatura = 25\n",
    "if temperatura >35:\n",
    "    print('Aviso por alta temperatura')\n",
    "else:\n",
    "    print('Parametros normales')"
   ]
  },
  {
   "cell_type": "code",
   "execution_count": null,
   "metadata": {},
   "outputs": [],
   "source": [
    "## LA SENTENCIA IF-ELIF-ELSE\n",
    "temperatura = 30.5\n",
    "if temperatura < 15:\n",
    "    print('Hara frio')\n",
    "elif temperatura <30:\n",
    "    print('Parametros normales')\n",
    "else:\n",
    "    print('Aviso por altas temperaturas')"
   ]
  },
  {
   "cell_type": "code",
   "execution_count": null,
   "metadata": {},
   "outputs": [],
   "source": [
    "## SE PUEDEN HACER CONDICIONALES EN UNA SOLA LINEA\n",
    "temperatura = 36\n",
    "if temperatura >35:\n",
    "    print('Aviso por alta temperatura')\n",
    "else:\n",
    "    print('Parametros normales')\n",
    "\n",
    "## SERIA IGUAL QUE \n",
    "riesgo = 'Parametros normales' if temperatura < 35 else 'Aviso por alta temperatura'\n",
    "print(riesgo)"
   ]
  },
  {
   "cell_type": "code",
   "execution_count": null,
   "metadata": {},
   "outputs": [],
   "source": [
    "## Python ofrece la oportunidad de chequear el orden en una variable sin poner dos condicionales\n",
    "x = int(input('Introduce un numero entre 0 y 20:\\n'))\n",
    "if 0<=x<=10:\n",
    "    print(\"Tu numero es menor o igual que 10.\")\n",
    "else:\n",
    "    print(\"Tu numero es superior a 10.\")"
   ]
  },
  {
   "cell_type": "code",
   "execution_count": null,
   "metadata": {},
   "outputs": [],
   "source": [
    "# None es un valor especial de Python porque almacena el valor nulo. Veamos como se relaciona con condicionales\n",
    "valor = None\n",
    "if valor:\n",
    "    print('Valor tiene algun valor util')\n",
    "else:\n",
    "    print('Valor no tiene ningun valor')\n",
    "\n",
    "# Pero si ponemos su comparativa con boleanos:\n",
    "if valor is None:\n",
    "    print('Valor tiene algun valor util')\n",
    "else:\n",
    "    print('Valor no tiene ningun valor')"
   ]
  },
  {
   "cell_type": "code",
   "execution_count": null,
   "metadata": {},
   "outputs": [],
   "source": [
    "print(bool(True))\n",
    "print(bool(None))\n",
    "print(bool(False))\n",
    "print(bool(0))\n",
    "print(bool(1))\n",
    "print(bool(0.0))\n",
    "print(bool(0.00))\n",
    "print(bool(''))\n",
    "print(bool('hola'))\n",
    "print(bool([]))\n",
    "print(bool(()))\n",
    "print(bool(set()))\n",
    "print(bool({}))"
   ]
  },
  {
   "cell_type": "code",
   "execution_count": null,
   "metadata": {},
   "outputs": [],
   "source": [
    "# Es posible utilizar operadores logicos sacando partida a las tablas de relacion entre and y or:\n",
    "b = 5\n",
    "c =0\n",
    "a= b or c # Como estamos en un or, se 5 es True y por lo tanto a valdra lo que sea True\n",
    "# En caso de que ambos sean True, se quedara con la primera opcion.\n",
    "print(a)\n",
    "\n",
    "b = 5\n",
    "c =1\n",
    "a= b or c\n",
    "# En caso de que ambos sean True, se quedara con la primera opcion.\n",
    "print(a)\n",
    "\n",
    "b = 5\n",
    "c =1\n",
    "a= c or b\n",
    "# En caso de que ambos sean True, se quedara con la primera opcion.\n",
    "print(a)"
   ]
  },
  {
   "cell_type": "code",
   "execution_count": null,
   "metadata": {},
   "outputs": [],
   "source": [
    "b = 5\n",
    "c =0\n",
    "a= b and c # En este caso, como es falso que ambos sean True, se ira al primer valor false que encuentre.\n",
    "print(a)\n",
    "\n",
    "b = 0.0\n",
    "c =0\n",
    "a= b and c # En este caso, como es True que ambos sean False, se ira al primer valor false que encuentre.\n",
    "print(a)"
   ]
  },
  {
   "cell_type": "code",
   "execution_count": null,
   "metadata": {},
   "outputs": [],
   "source": [
    "## Condicion switch case:\n",
    "color = '#FF0000'\n",
    "match color:\n",
    "    case '#FF0000':\n",
    "        print('🔴')\n",
    "    case '#00FF00':\n",
    "        print('🟢')\n",
    "    case '#0000FF':\n",
    "        print('🔵')"
   ]
  },
  {
   "cell_type": "code",
   "execution_count": null,
   "metadata": {},
   "outputs": [],
   "source": [
    "#Que ocurre si el valor que queremos comparar no esta entre los casos:\n",
    "color = '#FF0001'\n",
    "match color:\n",
    "    case '#FF0000':\n",
    "        print('🔴')\n",
    "    case '#00FF00':\n",
    "        print('🟢')\n",
    "    case '#0000FF':\n",
    "        print('🔵')\n",
    "# Vemos que en este caso no se printea nada. Por lo tanto, hay que recoger el caso en que no haya coincidencias."
   ]
  },
  {
   "cell_type": "code",
   "execution_count": null,
   "metadata": {},
   "outputs": [],
   "source": [
    "color = '#FF0001'\n",
    "match color:\n",
    "    case '#FF0000':\n",
    "        print('🔴')\n",
    "    case '#00FF00':\n",
    "        print('🟢')\n",
    "    case '#0000FF':\n",
    "        print('🔵')\n",
    "    case _:\n",
    "        print(\"Unknown color!\")"
   ]
  },
  {
   "cell_type": "code",
   "execution_count": null,
   "metadata": {},
   "outputs": [],
   "source": [
    "# La sentencia match-case ofrece mucho mas. Podemos deconstruir estructuras de datos\n",
    "# podemos capturar elementos o mapear valores.\n",
    "# Imaginemos que tenemos la tupla siguiente:\n",
    "punto = (2,5)\n",
    "print(type(punto))\n",
    "# Podemos decidir si el punto es de un plano o del espacio comparando dimensiones\n",
    "match punto:\n",
    "    case (x,y):\n",
    "        print(\"El punto es del plano\")\n",
    "    case (x,y,z):\n",
    "        print(\"El punto es del espacio\")\n",
    "# ejecutar con punto = (2,5,7)"
   ]
  },
  {
   "cell_type": "code",
   "execution_count": null,
   "metadata": {},
   "outputs": [],
   "source": [
    "# Podemos matchear tambien con strings:\n",
    "punto = ('2','5')\n",
    "match punto:\n",
    "    case (x,y):\n",
    "        print('El punto es del plano')\n",
    "    case (x,y,z):\n",
    "        print('El punto es del espacio')"
   ]
  },
  {
   "cell_type": "code",
   "execution_count": null,
   "metadata": {},
   "outputs": [],
   "source": [
    "# Ademas podemos inferior en el case la tipologia de datos que esperamos:\n",
    "punto = ('2','5')\n",
    "match punto:\n",
    "    case (int(),int()):\n",
    "        print('El punto es del plano')\n",
    "    case (int(),int(),int()):\n",
    "        print('El punto es del espacio')\n",
    "    case _:\n",
    "        print(\"Unknown\")\n",
    "# Aqui el codigo devuelve Unknown porque no hay match!!!"
   ]
  },
  {
   "cell_type": "code",
   "execution_count": null,
   "metadata": {},
   "outputs": [],
   "source": [
    "punto = (2,7)\n",
    "match punto:\n",
    "    case (int(),int()):\n",
    "        print('El punto es del plano')\n",
    "    case (int(),int(),int()):\n",
    "        print('El punto es del espacio')\n",
    "    case _:\n",
    "        print(\"Unknown\")"
   ]
  },
  {
   "cell_type": "code",
   "execution_count": null,
   "metadata": {},
   "outputs": [],
   "source": [
    "# Imaginemos que queremos hacer una funcion que nos calcule la distancia de un punto del plano o del espacio\n",
    "# al origen de coordenadas. Con match case lo podemos hacer relativamente sencillo\n",
    "# comprobando a la vez que los componentes estan bien definidos\n",
    "def distancia_al_origen(tuple):\n",
    "    distancia = float(0)\n",
    "    match tuple:\n",
    "        case (int(),int()):\n",
    "            distancia = (tuple[0]**2+tuple[1]**2)**(0.5)\n",
    "            texto_output = f'La distancia del punto {tuple} al origen es {distancia:.6f}'\n",
    "        case (int(),int(),int()):\n",
    "            distancia = (tuple[0]**2+tuple[1]**2+tuple[2])**(0.5)\n",
    "            texto_output = f'La distancia del punto {tuple} al origen es {distancia:.6f}'\n",
    "        case _:\n",
    "            texto_output = 'No se ha podido calcular la distancia. Comprueba el vector de la funcion.'\n",
    "    return texto_output"
   ]
  },
  {
   "cell_type": "code",
   "execution_count": null,
   "metadata": {},
   "outputs": [],
   "source": [
    "print(distancia_al_origen((1,1,0))) # En el primer caso nos devuelve la raiz de 2.\n",
    "print(distancia_al_origen((1.1,1,0))) # En el segundo caso nos dice que no se ha podido calcular porque \n",
    "# uno de los valores no es un entero. Si cambiamos en la funcion int() por float() no habra este problema."
   ]
  },
  {
   "cell_type": "code",
   "execution_count": null,
   "metadata": {},
   "outputs": [],
   "source": [
    "# Imaginemos que tenemos el siguiente diccionario:\n",
    "auths = [\n",
    "    {'username': 'sdelquin', 'password': '1234'},\n",
    "    {'email': 'sdelquin@gmail.com', 'token': '4321'},\n",
    "    {'email': 'test@test.com', 'password': 'ABCD'},\n",
    "    {'username': 'sdelquin', 'password': 1234}\n",
    "]\n",
    "auths    "
   ]
  },
  {
   "cell_type": "code",
   "execution_count": null,
   "metadata": {},
   "outputs": [],
   "source": [
    "# Vamos a validar recorrigendo el diccionario en que tipo de identificacion nos encontramos.\n",
    "# Si nos fijamos en el output, solo consideramos correctas las autentificaciones con usuario y contraseña\n",
    "# que sean strings y las autentificaciones con mail y token que sean strings. Si uno de los dos no es string,\n",
    "# no lo consideraremos correcto.\n",
    "for auth in auths:\n",
    "    print(auth)\n",
    "    match auth:\n",
    "        case {'username': str(username), 'password': str(password)}:\n",
    "            print('Authenticating with username and password')\n",
    "            print(f'{username}: {password}')\n",
    "        case {'email': str(email), 'token': str(token)}:\n",
    "            print('Authenticating with email and token')\n",
    "            print(f'{email}: {token}')\n",
    "        case _:\n",
    "            print('Authenticating method not valid!')\n",
    "    print('---')"
   ]
  },
  {
   "cell_type": "code",
   "execution_count": null,
   "metadata": {},
   "outputs": [],
   "source": [
    "# Por ultimo, veamos el operador morsa :=\n",
    "# Veamos un ejemplo para verlo claro. \n",
    "# Supongamos que queremos una funcion que dado el radio de un circulo nos calcule el perimetro \n",
    "# y en caso de que el perimetro no sea mayor que un numero, pidamos al usuario que introduzca mas radio.\n",
    "def calculo_perimetro(float):\n",
    "    perimetro = float*3.14159\n",
    "    message = str()\n",
    "    if perimetro < 100:\n",
    "        message = f'El perimetro {perimetro:.5f} es inferior a 100. Introduce un radio mas elevado'\n",
    "    else:\n",
    "        message = f'El perimetro {perimetro:.5f} es suficiente.'\n",
    "    return message\n"
   ]
  },
  {
   "cell_type": "code",
   "execution_count": null,
   "metadata": {},
   "outputs": [],
   "source": [
    "print(calculo_perimetro(30))\n",
    "print(calculo_perimetro(33))"
   ]
  },
  {
   "cell_type": "code",
   "execution_count": null,
   "metadata": {},
   "outputs": [],
   "source": [
    "# Con el operador morsa podriamos haber definido la funcion de la siguiente forma:\n",
    "def calculo_perimetro(float):\n",
    "    message = str()\n",
    "    if (perimetro := float*3.14159) < 100: # Definiendo el perimetro donde elijamos (con parentesis) y ya quedaria listo para usarlo\n",
    "        message = f'El perimetro {perimetro:.5f} es inferior a 100. Introduce un radio mas elevado'\n",
    "    else:\n",
    "        message = f'El perimetro {perimetro:.5f} es suficiente.'\n",
    "    return message\n"
   ]
  },
  {
   "cell_type": "code",
   "execution_count": null,
   "metadata": {},
   "outputs": [],
   "source": [
    "print(calculo_perimetro(30))\n",
    "print(calculo_perimetro(33))"
   ]
  },
  {
   "cell_type": "code",
   "execution_count": null,
   "metadata": {},
   "outputs": [],
   "source": [
    "# CONTROL DE FLUJO: Bucles\n",
    "# Sentencia while\n",
    "# La sentencia while permite realizar bucles utilizando una condicion de parada.\n",
    "condicion_parada = 'S'\n",
    "while condicion_parada == 'S':\n",
    "    print('Hola que tal!')\n",
    "    condicion_parada = input('¿Quieres otro saludo?: Responde S/N:\\n')\n",
    "print('Has salido del bucle.\\nNo quieres mas saludos.\\nQue tengas un buen dia.')"
   ]
  },
  {
   "cell_type": "code",
   "execution_count": null,
   "metadata": {},
   "outputs": [],
   "source": [
    "# Se puede romper un bucle con la sentencia break. Por ejemplo, en el bucle anterior si queremos\n",
    "# que despues de 5 iteraciones salgamos del bucle si o si, podemos poner un break con esta condicion extra\n",
    "condicion_parada = 'S'\n",
    "numero_saludos_maximos = 5\n",
    "numero_saludos = 0\n",
    "while condicion_parada == 'S':\n",
    "    print('Hola que tal!')\n",
    "    numero_saludos+=1\n",
    "    if(numero_saludos==numero_saludos_maximos):\n",
    "        print('No se permiten mas saludos.')\n",
    "        break\n",
    "    condicion_parada = input('¿Quieres otro saludo?: Responde S/N:\\n')\n",
    "else:\n",
    "    print(\"No deseas mas saludos.\")\n"
   ]
  },
  {
   "cell_type": "code",
   "execution_count": null,
   "metadata": {},
   "outputs": [],
   "source": [
    "# Hay condiciones en las que deseamos no salir del bucle sino continuar con la siguiente iteracion.\n",
    "# Por ejemplo, en el caso de que la palabra introducida en el bucle anterior no sea ni S ni N.\n",
    "# En este caso, queremos que el programa emita un mensaje diciendo que no has introducido S o N\n",
    "# y que continue preguntando.\n",
    "\n",
    "condicion_parada = 'S'\n",
    "numero_saludos_maximos = 5\n",
    "numero_saludos = 0\n",
    "while condicion_parada == 'S':\n",
    "    print('Hola que tal!')\n",
    "    if(numero_saludos==numero_saludos_maximos):\n",
    "        print('No se permiten mas saludos.')\n",
    "        break\n",
    "    condicion_parada = input('¿Quieres otro saludo?: Responde S/N:\\n')\n",
    "    \n",
    "    if condicion_parada not in 'SN':\n",
    "        print('No has introducido ni S ni N. Por favor vuelva a introducir letra.')\n",
    "        condicion_parada = 'S'\n",
    "        continue\n",
    "    \n",
    "    numero_saludos+=1\n",
    "else:\n",
    "    print(\"No deseas mas saludos.\")\n"
   ]
  },
  {
   "cell_type": "code",
   "execution_count": null,
   "metadata": {},
   "outputs": [],
   "source": [
    "# Podemos crear bucles infinitos.\n",
    "contador = 1\n",
    "while contador != 10:\n",
    "    contador+=2\n",
    "    print(contador)"
   ]
  },
  {
   "cell_type": "code",
   "execution_count": null,
   "metadata": {},
   "outputs": [],
   "source": [
    "# No obstante, hay veces en las que crear un bucle infinito nos es indispensable.\n",
    "# Imaginemos que queremos crear un listin de notas y deseamos que un profesor introduzca \n",
    "# 5 notas en un intervalo de 0 a 10. Si introduce un numero incorrecto,\n",
    "# queremos que el bucle siga infinitamente hasta que se introduzcan 5 notas correctas.\n",
    "numero_notas_deseadas = 5\n",
    "contador_notas_introducidas = 0\n",
    "while True:\n",
    "\n",
    "    if 0<=(nota_introducida := float(input('Por favor, introduzca una nota entre 0 y 10:\\n')))<=10:\n",
    "        print('Ha introducido una nota valida.')\n",
    "        contador_notas_introducidas+=1\n",
    "    else:\n",
    "        print('No ha introducido una nota correcta. Vuelva a intentarlo.')\n",
    "    \n",
    "    if contador_notas_introducidas == numero_notas_deseadas:\n",
    "        break"
   ]
  },
  {
   "cell_type": "code",
   "execution_count": null,
   "metadata": {},
   "outputs": [],
   "source": [
    "# Ejercicio: Escribir un programa que encuentre todos los multiplos de 5 menores que un valor dado por pantalla.\n",
    "while True:\n",
    "    numero_introducido = float(input('Introduce un numero positivo:\\n'))\n",
    "    if(numero_introducido<5):\n",
    "        print('No existen multiplos de 5 menores que el numero introducido.')\n",
    "        break\n",
    "    else:\n",
    "        numero_a_printear = 5\n",
    "        while numero_a_printear < numero_introducido:\n",
    "            print(numero_a_printear)\n",
    "            numero_a_printear+=5\n",
    "        break\n",
    "    "
   ]
  },
  {
   "cell_type": "code",
   "execution_count": null,
   "metadata": {},
   "outputs": [],
   "source": [
    "# La sentencia For\n",
    "# La mayoria de veces nos gustaria recorrer algunos tipos de datos, como por ejemplo\n",
    "# un vector de numeros, un string, una lista, etc y realizar acciones mientras se recorren estos objetos.\n",
    "# Un bucle con for nos permite realizar esta tarea.\n",
    "palabra_a_recorrer = \"Python mola\"\n",
    "for i in palabra_a_recorrer:\n",
    "    print(i)\n"
   ]
  },
  {
   "cell_type": "code",
   "execution_count": null,
   "metadata": {},
   "outputs": [],
   "source": [
    "#Al igual que con un bucle while, es posible romper un bucle for con break.\n",
    "# Por ejemplo:\n",
    "palabra_a_recorrer = \"Python mola\"\n",
    "for i in palabra_a_recorrer:\n",
    "    print(i)\n",
    "    if i == 'o':\n",
    "        break\n"
   ]
  },
  {
   "cell_type": "code",
   "execution_count": null,
   "metadata": {},
   "outputs": [],
   "source": [
    "# Es posible crear un rango de numeros con la funcion range() que nos permita iterar por estos numeros.\n",
    "# A nivel computacional, es mas rapido que recorrer un string o una lista.\n",
    "vector_bucle = range(1,10,1)\n",
    "for i in vector_bucle:\n",
    "    print(i)\n",
    "# Si nos fijamos, en realidad se printean 9 numeros no 10. Para crear un bucle con 10 numeros basta con empezar desde 0\n",
    "# o bien llegamos hasta 11."
   ]
  },
  {
   "cell_type": "code",
   "execution_count": 33,
   "metadata": {},
   "outputs": [
    {
     "name": "stdout",
     "output_type": "stream",
     "text": [
      "0\n",
      "2\n",
      "4\n",
      "6\n",
      "8\n"
     ]
    }
   ],
   "source": [
    "# El ultimo numero que se utiliza en la funcion range(1,10,1), nos indica \n",
    "# el step by step que va a realizar desde 1 a 9, en este caso, de 1 en 1.\n",
    "vector_bucle = range(0,10,2)\n",
    "for i in vector_bucle:\n",
    "    print(i)"
   ]
  },
  {
   "cell_type": "code",
   "execution_count": 65,
   "metadata": {},
   "outputs": [
    {
     "name": "stdout",
     "output_type": "stream",
     "text": [
      "X D D D D \n",
      "U X D D D \n",
      "U U X D D \n",
      "U U U X D \n",
      "U U U U X \n"
     ]
    }
   ],
   "source": [
    "n = 5\n",
    "for i in range(n):\n",
    "    for j in range(n):\n",
    "        if i<j:\n",
    "            simbolo = 'D'\n",
    "        elif i==j:\n",
    "            simbolo = 'X'\n",
    "        else:\n",
    "            simbolo = 'U'\n",
    "        \n",
    "        print(simbolo,end=\" \")\n",
    "    print()"
   ]
  }
 ],
 "metadata": {
  "kernelspec": {
   "display_name": "Python 3",
   "language": "python",
   "name": "python3"
  },
  "language_info": {
   "codemirror_mode": {
    "name": "ipython",
    "version": 3
   },
   "file_extension": ".py",
   "mimetype": "text/x-python",
   "name": "python",
   "nbconvert_exporter": "python",
   "pygments_lexer": "ipython3",
   "version": "3.12.3"
  }
 },
 "nbformat": 4,
 "nbformat_minor": 2
}
