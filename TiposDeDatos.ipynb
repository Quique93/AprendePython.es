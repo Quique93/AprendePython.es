{
 "cells": [
  {
   "cell_type": "code",
   "execution_count": null,
   "metadata": {},
   "outputs": [],
   "source": [
    "### PRIMER DIA APRENDEPYTHON: TIPOS DE DATOS\n",
    "# Booleano\n",
    "boleano_1 = True\n",
    "boleano_2 : bool = False\n",
    "print([boleano_1,boleano_2])\n",
    "\n",
    "# Entero\n",
    "entero_1 = 5\n",
    "entero_2 : int = -5\n",
    "print([entero_1,entero_2])\n",
    "\n",
    "# Flotante\n",
    "flotante_1 = 5.5\n",
    "flotante_2 = -69\n",
    "print([flotante_1,flotante_2])\n",
    "\n",
    "# Complejo\n",
    "complejo_1 = 3+5j\n",
    "complejo_2 : complex = 5\n",
    "print([complejo_1,complejo_2])\n",
    "\n",
    "# Cadena o string\n",
    "texto_1 = \"Hola\"\n",
    "texto_2 : str = \"Que tal\"\n",
    "print([texto_1,texto_2])\n",
    "\n",
    "# Tupla o vector\n",
    "vector_1 = (1,2,3,4)\n",
    "vector_2 :tuple = (-1,-2,-3,-4)\n",
    "print([vector_1,vector_2])\n",
    "\n",
    "# Lista \n",
    "lista_1 = [1,\"hola\"]\n",
    "lista_2 : list = [-1,\"adios\"]\n",
    "print([lista_1,lista_2])\n",
    "\n",
    "# Conjunto: Para crear un conjunto es necesario pasarle una lista.\n",
    "set_1 = set([1,2,4])\n",
    "set_2 : set = ([5,6,7])\n",
    "print([set_1,set_1])\n",
    "\n",
    "# Diccionario\n",
    "diccionario_1 = {'Nombre1':'Quique', 'Edad1':25}\n",
    "diccionario_1.update({'Nombre2':'Carla', 'Edad2':28})\n",
    "print(diccionario_1)\n"
   ]
  },
  {
   "cell_type": "code",
   "execution_count": null,
   "metadata": {},
   "outputs": [],
   "source": [
    "### PRIMER DIA APRENDEPYTHON: NUMEROS\n",
    "print(3+9) # Suma\n",
    "print(6-2) # Resta\n",
    "print(5*5) # Multiplicacion\n",
    "print(9/2) # Division (da numero float)\n",
    "print(9//2) # Division entera\n",
    "print(10%3) # Modulo: Devuelve el resto de dividir 10 entre 3\n",
    "print(2**5) # Exponenciacion de 2 elevado a 5. "
   ]
  },
  {
   "cell_type": "code",
   "execution_count": null,
   "metadata": {},
   "outputs": [],
   "source": [
    "abs(-4) ## Valor absoluto"
   ]
  },
  {
   "cell_type": "code",
   "execution_count": null,
   "metadata": {},
   "outputs": [],
   "source": [
    "# Combinacion de operaciones: El True suma 1 y el False resta 0.\n",
    "abs(5.5e10-4.8e10+True-False-2540544441414874)"
   ]
  },
  {
   "cell_type": "code",
   "execution_count": null,
   "metadata": {},
   "outputs": [],
   "source": [
    "# Parte entera de un numero\n",
    "int(55.6)"
   ]
  },
  {
   "cell_type": "code",
   "execution_count": null,
   "metadata": {},
   "outputs": [],
   "source": [
    "# Para obtener el tipo de una variable type()\n",
    "print(type(boleano_1))\n",
    "print(type(entero_1))\n",
    "print(type(flotante_1))\n",
    "print(type(lista_1))\n",
    "print(type(complejo_1))\n",
    "print(type(texto_1))\n",
    "print(type(vector_1))\n",
    "print(type(diccionario_1))\n",
    "print(type(set_1))"
   ]
  },
  {
   "cell_type": "code",
   "execution_count": null,
   "metadata": {},
   "outputs": [],
   "source": [
    "## INSTALACION DE PYCHEK PARA COMPROBAR EJERCICIOS DEL CURSO\n",
    "# Ejecutar la siguiente linea de comando por consola\n",
    "# python -m pip install git+http://get.pycheck.es"
   ]
  }
 ],
 "metadata": {
  "kernelspec": {
   "display_name": "Python 3",
   "language": "python",
   "name": "python3"
  },
  "language_info": {
   "codemirror_mode": {
    "name": "ipython",
    "version": 3
   },
   "file_extension": ".py",
   "mimetype": "text/x-python",
   "name": "python",
   "nbconvert_exporter": "python",
   "pygments_lexer": "ipython3",
   "version": "3.12.3"
  }
 },
 "nbformat": 4,
 "nbformat_minor": 2
}
