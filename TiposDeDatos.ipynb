{
 "cells": [
  {
   "cell_type": "markdown",
   "metadata": {},
   "source": [
    "# Tipos de datos\n",
    "## Datos\n",
    "En python existen diferentes tipos de datos base. Son los siguientes:"
   ]
  },
  {
   "cell_type": "code",
   "execution_count": 1,
   "metadata": {},
   "outputs": [
    {
     "name": "stdout",
     "output_type": "stream",
     "text": [
      "True False\n",
      "5 -10\n",
      "78.8 -55.6\n",
      "(5+2j) 55j\n",
      "Hola Que tal\n",
      "(2, 4, 5) ('hola', 'soy', 'quique', 'y', 'tengo', 30, 'años')\n",
      "['Manzana', 'Aguacate'] ['Casa', 'Coche', 40000]\n",
      "{'tengo', 'años', 30, 'hola'} {1, 2, 5}\n",
      "{'Modelo: CX-60', 'Marca Coche : Mazda'}\n"
     ]
    }
   ],
   "source": [
    "# Boleano\n",
    "boleano_1 = True\n",
    "boleano_2 = False\n",
    "print(boleano_1,boleano_2)\n",
    "\n",
    "# Entero\n",
    "entero_1 = 5\n",
    "entero_2 = -10\n",
    "print(entero_1,entero_2)\n",
    "\n",
    "# Flotante (numero decimal)\n",
    "flotante_1 = 78.8\n",
    "flotante_2 = -55.6\n",
    "print(flotante_1,flotante_2)\n",
    "\n",
    "# Complejo (a+b*j)\n",
    "complejo_1 = 5+2j\n",
    "complejo_2 = 55j\n",
    "print(complejo_1,complejo_2)\n",
    "\n",
    "# Cadena o Strings\n",
    "cadena_1 = \"Hola\"\n",
    "cadena_2 = \"Que tal\"\n",
    "print(cadena_1,cadena_2)\n",
    "\n",
    "# Tupla o vector\n",
    "vector_1 = (2,4,5)\n",
    "vector_2 = (\"hola\",\"soy\",\"quique\",\"y\",\"tengo\",30,\"años\")\n",
    "print(vector_1,vector_2)\n",
    "\n",
    "# Lista\n",
    "lista_1 = [\"Manzana\", \"Aguacate\"]\n",
    "lista_2 = [\"Casa\",\"Coche\",40000]\n",
    "print(lista_1,lista_2)\n",
    "\n",
    "# Conjunto\n",
    "conjunto_1 = set([\"hola\",\"tengo\",30,\"años\"])\n",
    "conjunto_2 = set([5,2,1])\n",
    "print(conjunto_1,conjunto_2)\n",
    "\n",
    "# Diccionario\n",
    "diccionario_1 = {\"Marca Coche : Mazda\", \"Modelo: CX-60\"}\n",
    "print(diccionario_1)"
   ]
  },
  {
   "cell_type": "markdown",
   "metadata": {},
   "source": [
    "Python ofrece la posibilidad de asignar variables multiples:"
   ]
  },
  {
   "cell_type": "code",
   "execution_count": 2,
   "metadata": {},
   "outputs": [
    {
     "name": "stdout",
     "output_type": "stream",
     "text": [
      "Calle Paco Mutllo Calle Paco Mutllo\n"
     ]
    }
   ],
   "source": [
    "Piso = Casa = \"Calle Paco Mutllo\"\n",
    "print(Piso,Casa)"
   ]
  },
  {
   "cell_type": "markdown",
   "metadata": {},
   "source": [
    "Y también nos permite realizar asignaciones de variables ya existentes en otra variable."
   ]
  },
  {
   "cell_type": "code",
   "execution_count": 4,
   "metadata": {},
   "outputs": [
    {
     "name": "stdout",
     "output_type": "stream",
     "text": [
      "5 5\n"
     ]
    }
   ],
   "source": [
    "a = 5\n",
    "b = a\n",
    "print(a,b)"
   ]
  },
  {
   "cell_type": "markdown",
   "metadata": {},
   "source": [
    "Para conocer el tipo de una variable se utiliza type()"
   ]
  },
  {
   "cell_type": "code",
   "execution_count": null,
   "metadata": {},
   "outputs": [],
   "source": []
  }
 ],
 "metadata": {
  "kernelspec": {
   "display_name": "Python 3",
   "language": "python",
   "name": "python3"
  },
  "language_info": {
   "codemirror_mode": {
    "name": "ipython",
    "version": 3
   },
   "file_extension": ".py",
   "mimetype": "text/x-python",
   "name": "python",
   "nbconvert_exporter": "python",
   "pygments_lexer": "ipython3",
   "version": "3.12.3"
  }
 },
 "nbformat": 4,
 "nbformat_minor": 2
}
