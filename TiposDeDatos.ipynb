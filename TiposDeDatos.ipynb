{
 "cells": [
  {
   "cell_type": "code",
   "execution_count": null,
   "metadata": {},
   "outputs": [],
   "source": [
    "### PRIMER DIA APRENDEPYTHON: TIPOS DE DATOS\n",
    "# Booleano\n",
    "boleano_1 = True\n",
    "boleano_2 : bool = False\n",
    "print([boleano_1,boleano_2])\n",
    "\n",
    "# Entero\n",
    "entero_1 = 5\n",
    "entero_2 : int = -5\n",
    "print([entero_1,entero_2])\n",
    "\n",
    "# Flotante\n",
    "flotante_1 = 5.5\n",
    "flotante_2 = -69\n",
    "print([flotante_1,flotante_2])\n",
    "\n",
    "# Complejo\n",
    "complejo_1 = 3+5j\n",
    "complejo_2 : complex = 5\n",
    "print([complejo_1,complejo_2])\n",
    "\n",
    "# Cadena o string\n",
    "texto_1 = \"Hola\"\n",
    "texto_2 : str = \"Que tal\"\n",
    "print([texto_1,texto_2])\n",
    "\n",
    "# Tupla o vector\n",
    "vector_1 = (1,2,3,4)\n",
    "vector_2 :tuple = (-1,-2,-3,-4)\n",
    "print([vector_1,vector_2])\n",
    "\n",
    "# Lista \n",
    "lista_1 = [1,\"hola\"]\n",
    "lista_2 : list = [-1,\"adios\"]\n",
    "print([lista_1,lista_2])\n",
    "\n",
    "# Conjunto: Para crear un conjunto es necesario pasarle una lista.\n",
    "set_1 = set([1,2,4])\n",
    "set_2 : set = ([5,6,7])\n",
    "print([set_1,set_1])\n",
    "\n",
    "# Diccionario\n",
    "diccionario_1 = {'Nombre1':'Quique', 'Edad1':25}\n",
    "diccionario_1.update({'Nombre2':'Carla', 'Edad2':28})\n",
    "print(diccionario_1)\n"
   ]
  }
 ],
 "metadata": {
  "kernelspec": {
   "display_name": "Python 3",
   "language": "python",
   "name": "python3"
  },
  "language_info": {
   "codemirror_mode": {
    "name": "ipython",
    "version": 3
   },
   "file_extension": ".py",
   "mimetype": "text/x-python",
   "name": "python",
   "nbconvert_exporter": "python",
   "pygments_lexer": "ipython3",
   "version": "3.12.3"
  }
 },
 "nbformat": 4,
 "nbformat_minor": 2
}
