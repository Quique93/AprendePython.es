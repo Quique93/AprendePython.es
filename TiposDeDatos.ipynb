{
 "cells": [
  {
   "cell_type": "code",
   "execution_count": 2,
   "metadata": {},
   "outputs": [
    {
     "name": "stdout",
     "output_type": "stream",
     "text": [
      "[True, False]\n",
      "[5, -5]\n",
      "[5.5, -69]\n",
      "[(3+5j), 5]\n",
      "['Hola', 'Que tal']\n",
      "[(1, 2, 3, 4), (-1, -2, -3, -4)]\n",
      "[[1, 'hola'], [-1, 'adios']]\n",
      "[{1, 2, 4}, {1, 2, 4}]\n",
      "{'Nombre1': 'Quique', 'Edad1': 25, 'Nombre2': 'Carla', 'Edad2': 28}\n"
     ]
    }
   ],
   "source": [
    "### PRIMER DIA APRENDEPYTHON: TIPOS DE DATOS\n",
    "# Booleano\n",
    "boleano_1 = True\n",
    "boleano_2 : bool = False\n",
    "print([boleano_1,boleano_2])\n",
    "\n",
    "# Entero\n",
    "entero_1 = 5\n",
    "entero_2 : int = -5\n",
    "print([entero_1,entero_2])\n",
    "\n",
    "# Flotante\n",
    "flotante_1 = 5.5\n",
    "flotante_2 = -69\n",
    "print([flotante_1,flotante_2])\n",
    "\n",
    "# Complejo\n",
    "complejo_1 = 3+5j\n",
    "complejo_2 : complex = 5\n",
    "print([complejo_1,complejo_2])\n",
    "\n",
    "# Cadena o string\n",
    "texto_1 = \"Hola\"\n",
    "texto_2 : str = \"Que tal\"\n",
    "print([texto_1,texto_2])\n",
    "\n",
    "# Tupla o vector\n",
    "vector_1 = (1,2,3,4)\n",
    "vector_2 :tuple = (-1,-2,-3,-4)\n",
    "print([vector_1,vector_2])\n",
    "\n",
    "# Lista \n",
    "lista_1 = [1,\"hola\"]\n",
    "lista_2 : list = [-1,\"adios\"]\n",
    "print([lista_1,lista_2])\n",
    "\n",
    "# Conjunto: Para crear un conjunto es necesario pasarle una lista.\n",
    "set_1 = set([1,2,4])\n",
    "set_2 : set = ([5,6,7])\n",
    "print([set_1,set_1])\n",
    "\n",
    "# Diccionario\n",
    "diccionario_1 = {'Nombre1':'Quique', 'Edad1':25}\n",
    "diccionario_1.update({'Nombre2':'Carla', 'Edad2':28})\n",
    "print(diccionario_1)\n"
   ]
  },
  {
   "cell_type": "code",
   "execution_count": 3,
   "metadata": {},
   "outputs": [
    {
     "name": "stdout",
     "output_type": "stream",
     "text": [
      "12\n",
      "4\n",
      "25\n",
      "4.5\n",
      "4\n",
      "1\n",
      "32\n"
     ]
    }
   ],
   "source": [
    "### PRIMER DIA APRENDEPYTHON: NUMEROS\n",
    "print(3+9) # Suma\n",
    "print(6-2) # Resta\n",
    "print(5*5) # Multiplicacion\n",
    "print(9/2) # Division (da numero float)\n",
    "print(9//2) # Division entera\n",
    "print(10%3) # Modulo: Devuelve el resto de dividir 10 entre 3\n",
    "print(2**5) # Exponenciacion de 2 elevado a 5. "
   ]
  },
  {
   "cell_type": "code",
   "execution_count": 4,
   "metadata": {},
   "outputs": [
    {
     "data": {
      "text/plain": [
       "4"
      ]
     },
     "execution_count": 4,
     "metadata": {},
     "output_type": "execute_result"
    }
   ],
   "source": [
    "abs(-4) ## Valor absoluto"
   ]
  },
  {
   "cell_type": "code",
   "execution_count": 5,
   "metadata": {},
   "outputs": [
    {
     "data": {
      "text/plain": [
       "2540537441414873.0"
      ]
     },
     "execution_count": 5,
     "metadata": {},
     "output_type": "execute_result"
    }
   ],
   "source": [
    "# Combinacion de operaciones: El True suma 1 y el False resta 0.\n",
    "abs(5.5e10-4.8e10+True-False-2540544441414874)"
   ]
  },
  {
   "cell_type": "code",
   "execution_count": 6,
   "metadata": {},
   "outputs": [
    {
     "data": {
      "text/plain": [
       "55"
      ]
     },
     "execution_count": 6,
     "metadata": {},
     "output_type": "execute_result"
    }
   ],
   "source": [
    "# Parte entera de un numero\n",
    "int(55.6)"
   ]
  },
  {
   "cell_type": "code",
   "execution_count": 7,
   "metadata": {},
   "outputs": [
    {
     "name": "stdout",
     "output_type": "stream",
     "text": [
      "<class 'bool'>\n",
      "<class 'int'>\n",
      "<class 'float'>\n",
      "<class 'list'>\n",
      "<class 'complex'>\n",
      "<class 'str'>\n",
      "<class 'tuple'>\n",
      "<class 'dict'>\n",
      "<class 'set'>\n"
     ]
    }
   ],
   "source": [
    "# Para obtener el tipo de una variable type()\n",
    "print(type(boleano_1))\n",
    "print(type(entero_1))\n",
    "print(type(flotante_1))\n",
    "print(type(lista_1))\n",
    "print(type(complejo_1))\n",
    "print(type(texto_1))\n",
    "print(type(vector_1))\n",
    "print(type(diccionario_1))\n",
    "print(type(set_1))"
   ]
  },
  {
   "cell_type": "code",
   "execution_count": 8,
   "metadata": {},
   "outputs": [],
   "source": [
    "## INSTALACION DE PYCHEK PARA COMPROBAR EJERCICIOS DEL CURSO\n",
    "# Ejecutar la siguiente linea de comando por consola\n",
    "# python -m pip install git+http://get.pycheck.es"
   ]
  },
  {
   "cell_type": "code",
   "execution_count": 9,
   "metadata": {},
   "outputs": [],
   "source": [
    "## Ejercicio 1: La suma mas sencilla\n",
    "def run(a:int, b:int) -> int:\n",
    "    result = a+b\n",
    "    return(result)\n",
    "\n",
    "# Ver plantilla resulta en C:\\Users\\garci\\EjerciciosPythonAprende\n",
    "\n",
    "## Ejecutar con pycheck: abrir terminal de C y lanzar los comandos:\n",
    "## pycheck show sum: Nos mostrara el enunciado del ejercicio\n",
    "## pycheck template sum: Nos creara una plantilla del ejercicio para rellenarla con nuestro codigo. \n",
    "## pycheck check sum : Hara las validaciones con lo que tenga integrado el enunciado.\n",
    "## pycheck run sum -- 5-5: Ejecutara el programa sum.py con los numeros 5 y -5."
   ]
  },
  {
   "cell_type": "code",
   "execution_count": 10,
   "metadata": {},
   "outputs": [
    {
     "data": {
      "text/plain": [
       "10"
      ]
     },
     "execution_count": 10,
     "metadata": {},
     "output_type": "execute_result"
    }
   ],
   "source": [
    "run(5,5)"
   ]
  },
  {
   "cell_type": "code",
   "execution_count": 11,
   "metadata": {},
   "outputs": [
    {
     "name": "stdout",
     "output_type": "stream",
     "text": [
      "True\n",
      "False\n"
     ]
    }
   ],
   "source": [
    "## Funcion para comprobar el tipo de variable que hay actualmente.\n",
    "print(isinstance(flotante_1, float))\n",
    "print(isinstance(flotante_1, int))"
   ]
  },
  {
   "cell_type": "code",
   "execution_count": 12,
   "metadata": {},
   "outputs": [
    {
     "name": "stdout",
     "output_type": "stream",
     "text": [
      "3\n",
      "3.14159\n",
      "3.142\n",
      "1.0\n",
      "4\n",
      "3\n"
     ]
    }
   ],
   "source": [
    "# Para redondear numeros: funcion round()\n",
    "pi = 3.14159265359\n",
    "print(round(pi))\n",
    "print(round(pi,ndigits=5))\n",
    "print(round(pi,ndigits=3))\n",
    "print(round( (19 / 155) * (155 / 19),1))\n",
    "# IMPORTANTE: round() aproxima al valor mas cercano mientras que int cogera el valor entero por debajo.\n",
    "print(round(3.5))\n",
    "print(int(3.5))"
   ]
  },
  {
   "cell_type": "code",
   "execution_count": 13,
   "metadata": {},
   "outputs": [
    {
     "data": {
      "text/plain": [
       "12.56"
      ]
     },
     "execution_count": 13,
     "metadata": {},
     "output_type": "execute_result"
    }
   ],
   "source": [
    "## Ejercicios\n",
    "# 1: circle_area: C:\\Users\\garci\\EjerciciosPythonAprende\n",
    "# ******************\n",
    "# ÁREA DE UN CÍRCULO\n",
    "# ******************\n",
    "\n",
    "\n",
    "def run(radius: float) -> float:\n",
    "    pi = 3.14\n",
    "    area = pi*radius**2\n",
    "\n",
    "    return area\n",
    "\n",
    "run(2)\n"
   ]
  },
  {
   "cell_type": "code",
   "execution_count": 14,
   "metadata": {},
   "outputs": [
    {
     "data": {
      "text/plain": [
       "13.45362404707371"
      ]
     },
     "execution_count": 14,
     "metadata": {},
     "output_type": "execute_result"
    }
   ],
   "source": [
    "# 2: euclid_distante: C:\\Users\\garci\\EjerciciosPythonAprende\n",
    "# ******************\n",
    "# DISTANCIA EUCLÍDEA\n",
    "# ******************\n",
    "\n",
    "def run(x1: float, y1: float, x2: float, y2: float) -> float:\n",
    "    # TU CÓDIGO AQUÍ\n",
    "    distance = ((x1-x2)**2 + (y1-y2)**2)**(0.5)\n",
    "\n",
    "    return distance\n",
    "\n",
    "run(3,5,-7,-4)"
   ]
  },
  {
   "cell_type": "code",
   "execution_count": 15,
   "metadata": {},
   "outputs": [
    {
     "name": "stdout",
     "output_type": "stream",
     "text": [
      "Mi primera cadena en Python\n",
      "Los llamados \"strings\" son secuencias de caracteres \n",
      "\n",
      "To be, or not to be, that is the question:\n",
      "Whether 'tis nobler in the mind to suffer\n",
      "The slings and arrows of outrageous fortune,\n",
      "Or to take arms against a sea of troubles\n"
     ]
    }
   ],
   "source": [
    "### PRIMER DIA APRENDEPYTHON: CADENAS DE TEXTO\n",
    "print('Mi primera cadena en Python')\n",
    "\n",
    "print('Los llamados \"strings\" son secuencias de caracteres \\n')\n",
    "\n",
    "poem = \"\"\"To be, or not to be, that is the question:\n",
    "Whether 'tis nobler in the mind to suffer\n",
    "The slings and arrows of outrageous fortune,\n",
    "Or to take arms against a sea of troubles\"\"\"\n",
    "print(poem)\n",
    "# Las comillas triples se usan cuando hay cadenas de texto que son multilinea. Asi nos ahorramos escribir \\n\n"
   ]
  },
  {
   "cell_type": "code",
   "execution_count": 16,
   "metadata": {},
   "outputs": [
    {
     "name": "stdout",
     "output_type": "stream",
     "text": [
      "Primera linea \n",
      "Segunda linea \n",
      "Tercera linea\n",
      "Primera linea \tSegunda linea \tTercera linea\n",
      "Necesito 'escapar' la comilla simple\n",
      "Capitulo \\ Seccion \\ Encabezado\n"
     ]
    }
   ],
   "source": [
    "# Saltos de linea\n",
    "msg = 'Primera linea \\nSegunda linea \\nTercera linea'\n",
    "print(msg)\n",
    "\n",
    "# Tabulaciones\n",
    "msg = 'Primera linea \\tSegunda linea \\tTercera linea'\n",
    "print(msg)\n",
    "\n",
    "# Comilla simple\n",
    "msg = \"Necesito \\'escapar\\' la comilla simple\"\n",
    "print(msg)\n",
    "\n",
    "# Barra invertida\n",
    "msg = 'Capitulo \\\\ Seccion \\\\ Encabezado'\n",
    "print(msg)"
   ]
  },
  {
   "cell_type": "code",
   "execution_count": 17,
   "metadata": {},
   "outputs": [
    {
     "name": "stdout",
     "output_type": "stream",
     "text": [
      "Que es lo que haces?\n",
      "Nada, y tu?\n",
      "Que es lo que haces?\tNada, y tu?\n",
      "Que es lo que haces?|Nada, y tu?\n",
      "Que es lo que haces?|Nada, y tu????"
     ]
    }
   ],
   "source": [
    "## Veamos como utilizar print para concatenar mensajes de la forma que queramos\n",
    "msg_1 = \"Que es lo que haces?\"\n",
    "msg_2 = \"Nada, y tu?\"\n",
    "print(msg_1,msg_2,sep=\"\\n\")\n",
    "print(msg_1,msg_2,sep=\"\\t\")\n",
    "print(msg_1,msg_2,sep=\"|\")\n",
    "print(msg_1,msg_2,sep=\"|\",end=\"???\")"
   ]
  },
  {
   "cell_type": "code",
   "execution_count": 20,
   "metadata": {},
   "outputs": [
    {
     "name": "stdout",
     "output_type": "stream",
     "text": [
      "Su numero es: 55\n",
      "<class 'str'>\n"
     ]
    }
   ],
   "source": [
    "## Leer datos del teclado\n",
    "numero = input(\"Intoduce un numero, por favor: \\n\")\n",
    "print(\"Su numero es:\",numero)\n",
    "print(type(numero))"
   ]
  },
  {
   "cell_type": "code",
   "execution_count": 22,
   "metadata": {},
   "outputs": [
    {
     "name": "stdout",
     "output_type": "stream",
     "text": [
      "Su numero es: 55\n",
      "<class 'int'>\n"
     ]
    }
   ],
   "source": [
    "# Si añadimos el valor que esperamos cambiara el tipo:\n",
    "numero = int(input(\"Intoduce un numero, por favor: \\n\"))\n",
    "print(\"Su numero es:\",numero)\n",
    "print(type(numero))"
   ]
  },
  {
   "cell_type": "code",
   "execution_count": null,
   "metadata": {},
   "outputs": [],
   "source": []
  }
 ],
 "metadata": {
  "kernelspec": {
   "display_name": "Python 3",
   "language": "python",
   "name": "python3"
  },
  "language_info": {
   "codemirror_mode": {
    "name": "ipython",
    "version": 3
   },
   "file_extension": ".py",
   "mimetype": "text/x-python",
   "name": "python",
   "nbconvert_exporter": "python",
   "pygments_lexer": "ipython3",
   "version": "3.12.3"
  }
 },
 "nbformat": 4,
 "nbformat_minor": 2
}
