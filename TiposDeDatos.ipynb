{
 "cells": [
  {
   "cell_type": "code",
   "execution_count": null,
   "metadata": {},
   "outputs": [],
   "source": [
    "### PRIMER DIA APRENDEPYTHON: TIPOS DE DATOS\n",
    "# Booleano\n",
    "boleano_1 = True\n",
    "boleano_2 : bool = False\n",
    "print([boleano_1,boleano_2])\n",
    "\n",
    "# Entero\n",
    "entero_1 = 5\n",
    "entero_2 : int = -5\n",
    "print([entero_1,entero_2])\n",
    "\n",
    "# Flotante\n",
    "flotante_1 = 5.5\n",
    "flotante_2 = -69\n",
    "print([flotante_1,flotante_2])\n",
    "\n",
    "# Complejo\n",
    "complejo_1 = 3+5j\n",
    "complejo_2 : complex = 5\n",
    "print([complejo_1,complejo_2])\n",
    "\n",
    "# Cadena o string\n",
    "texto_1 = \"Hola\"\n",
    "texto_2 : str = \"Que tal\"\n",
    "print([texto_1,texto_2])\n",
    "\n",
    "# Tupla o vector\n",
    "vector_1 = (1,2,3,4)\n",
    "vector_2 :tuple = (-1,-2,-3,-4)\n",
    "print([vector_1,vector_2])\n",
    "\n",
    "# Lista \n",
    "lista_1 = [1,\"hola\"]\n",
    "lista_2 : list = [-1,\"adios\"]\n",
    "print([lista_1,lista_2])\n",
    "\n",
    "# Conjunto: Para crear un conjunto es necesario pasarle una lista.\n",
    "set_1 = set([1,2,4])\n",
    "set_2 : set = ([5,6,7])\n",
    "print([set_1,set_1])\n",
    "\n",
    "# Diccionario\n",
    "diccionario_1 = {'Nombre1':'Quique', 'Edad1':25}\n",
    "diccionario_1.update({'Nombre2':'Carla', 'Edad2':28})\n",
    "print(diccionario_1)\n"
   ]
  },
  {
   "cell_type": "code",
   "execution_count": null,
   "metadata": {},
   "outputs": [],
   "source": [
    "### PRIMER DIA APRENDEPYTHON: NUMEROS\n",
    "print(3+9) # Suma\n",
    "print(6-2) # Resta\n",
    "print(5*5) # Multiplicacion\n",
    "print(9/2) # Division (da numero float)\n",
    "print(9//2) # Division entera\n",
    "print(10%3) # Modulo: Devuelve el resto de dividir 10 entre 3\n",
    "print(2**5) # Exponenciacion de 2 elevado a 5. "
   ]
  },
  {
   "cell_type": "code",
   "execution_count": null,
   "metadata": {},
   "outputs": [],
   "source": [
    "abs(-4) ## Valor absoluto"
   ]
  },
  {
   "cell_type": "code",
   "execution_count": null,
   "metadata": {},
   "outputs": [],
   "source": [
    "# Combinacion de operaciones: El True suma 1 y el False resta 0.\n",
    "abs(5.5e10-4.8e10+True-False-2540544441414874)"
   ]
  },
  {
   "cell_type": "code",
   "execution_count": null,
   "metadata": {},
   "outputs": [],
   "source": [
    "# Parte entera de un numero\n",
    "int(55.6)"
   ]
  },
  {
   "cell_type": "code",
   "execution_count": null,
   "metadata": {},
   "outputs": [],
   "source": [
    "# Para obtener el tipo de una variable type()\n",
    "print(type(boleano_1))\n",
    "print(type(entero_1))\n",
    "print(type(flotante_1))\n",
    "print(type(lista_1))\n",
    "print(type(complejo_1))\n",
    "print(type(texto_1))\n",
    "print(type(vector_1))\n",
    "print(type(diccionario_1))\n",
    "print(type(set_1))"
   ]
  },
  {
   "cell_type": "code",
   "execution_count": null,
   "metadata": {},
   "outputs": [],
   "source": [
    "## INSTALACION DE PYCHEK PARA COMPROBAR EJERCICIOS DEL CURSO\n",
    "# Ejecutar la siguiente linea de comando por consola\n",
    "# python -m pip install git+http://get.pycheck.es"
   ]
  },
  {
   "cell_type": "code",
   "execution_count": null,
   "metadata": {},
   "outputs": [],
   "source": [
    "## Ejercicio 1: La suma mas sencilla\n",
    "def run(a:int, b:int) -> int:\n",
    "    result = a+b\n",
    "    return(result)\n",
    "\n",
    "# Ver plantilla resulta en C:\\Users\\garci\\EjerciciosPythonAprende\n",
    "\n",
    "## Ejecutar con pycheck: abrir terminal de C y lanzar los comandos:\n",
    "## pycheck show sum: Nos mostrara el enunciado del ejercicio\n",
    "## pycheck template sum: Nos creara una plantilla del ejercicio para rellenarla con nuestro codigo. \n",
    "## pycheck check sum : Hara las validaciones con lo que tenga integrado el enunciado.\n",
    "## pycheck run sum -- 5-5: Ejecutara el programa sum.py con los numeros 5 y -5."
   ]
  },
  {
   "cell_type": "code",
   "execution_count": null,
   "metadata": {},
   "outputs": [],
   "source": [
    "run(5,5)"
   ]
  },
  {
   "cell_type": "code",
   "execution_count": null,
   "metadata": {},
   "outputs": [],
   "source": [
    "## Funcion para comprobar el tipo de variable que hay actualmente.\n",
    "print(isinstance(flotante_1, float))\n",
    "print(isinstance(flotante_1, int))"
   ]
  },
  {
   "cell_type": "code",
   "execution_count": null,
   "metadata": {},
   "outputs": [],
   "source": [
    "# Para redondear numeros: funcion round()\n",
    "pi = 3.14159265359\n",
    "print(round(pi))\n",
    "print(round(pi,ndigits=5))\n",
    "print(round(pi,ndigits=3))\n",
    "print(round( (19 / 155) * (155 / 19),1))\n",
    "# IMPORTANTE: round() aproxima al valor mas cercano mientras que int cogera el valor entero por debajo.\n",
    "print(round(3.5))\n",
    "print(int(3.5))"
   ]
  },
  {
   "cell_type": "code",
   "execution_count": null,
   "metadata": {},
   "outputs": [],
   "source": [
    "## Ejercicios\n",
    "# 1: circle_area: C:\\Users\\garci\\EjerciciosPythonAprende\n",
    "# ******************\n",
    "# ÁREA DE UN CÍRCULO\n",
    "# ******************\n",
    "\n",
    "\n",
    "def run(radius: float) -> float:\n",
    "    pi = 3.14\n",
    "    area = pi*radius**2\n",
    "\n",
    "    return area\n",
    "\n",
    "run(2)\n"
   ]
  },
  {
   "cell_type": "code",
   "execution_count": null,
   "metadata": {},
   "outputs": [],
   "source": [
    "# 2: euclid_distante: C:\\Users\\garci\\EjerciciosPythonAprende\n",
    "# ******************\n",
    "# DISTANCIA EUCLÍDEA\n",
    "# ******************\n",
    "\n",
    "def run(x1: float, y1: float, x2: float, y2: float) -> float:\n",
    "    # TU CÓDIGO AQUÍ\n",
    "    distance = ((x1-x2)**2 + (y1-y2)**2)**(0.5)\n",
    "\n",
    "    return distance\n",
    "\n",
    "run(3,5,-7,-4)"
   ]
  },
  {
   "cell_type": "code",
   "execution_count": null,
   "metadata": {},
   "outputs": [],
   "source": [
    "### PRIMER DIA APRENDEPYTHON: CADENAS DE TEXTO\n",
    "print('Mi primera cadena en Python')\n",
    "\n",
    "print('Los llamados \"strings\" son secuencias de caracteres \\n')\n",
    "\n",
    "poem = \"\"\"To be, or not to be, that is the question:\n",
    "Whether 'tis nobler in the mind to suffer\n",
    "The slings and arrows of outrageous fortune,\n",
    "Or to take arms against a sea of troubles\"\"\"\n",
    "print(poem)\n",
    "# Las comillas triples se usan cuando hay cadenas de texto que son multilinea. Asi nos ahorramos escribir \\n\n"
   ]
  },
  {
   "cell_type": "code",
   "execution_count": null,
   "metadata": {},
   "outputs": [],
   "source": [
    "# Saltos de linea\n",
    "msg = 'Primera linea \\nSegunda linea \\nTercera linea'\n",
    "print(msg)\n",
    "\n",
    "# Tabulaciones\n",
    "msg = 'Primera linea \\tSegunda linea \\tTercera linea'\n",
    "print(msg)\n",
    "\n",
    "# Comilla simple\n",
    "msg = \"Necesito \\'escapar\\' la comilla simple\"\n",
    "print(msg)\n",
    "\n",
    "# Barra invertida\n",
    "msg = 'Capitulo \\\\ Seccion \\\\ Encabezado'\n",
    "print(msg)"
   ]
  },
  {
   "cell_type": "code",
   "execution_count": null,
   "metadata": {},
   "outputs": [],
   "source": [
    "## Veamos como utilizar print para concatenar mensajes de la forma que queramos\n",
    "msg_1 = \"Que es lo que haces?\"\n",
    "msg_2 = \"Nada, y tu?\"\n",
    "print(msg_1,msg_2,sep=\"\\n\")\n",
    "print(msg_1,msg_2,sep=\"\\t\")\n",
    "print(msg_1,msg_2,sep=\"|\")\n",
    "print(msg_1,msg_2,sep=\"|\",end=\"???\")"
   ]
  },
  {
   "cell_type": "code",
   "execution_count": null,
   "metadata": {},
   "outputs": [],
   "source": [
    "## Leer datos del teclado\n",
    "numero = input(\"Intoduce un numero, por favor: \\n\")\n",
    "print(\"Su numero es:\",numero)\n",
    "print(type(numero))"
   ]
  },
  {
   "cell_type": "code",
   "execution_count": null,
   "metadata": {},
   "outputs": [],
   "source": [
    "# Si añadimos el valor que esperamos cambiara el tipo:\n",
    "numero = int(input(\"Intoduce un numero, por favor: \\n\"))\n",
    "print(\"Su numero es:\",numero)\n",
    "print(type(numero))"
   ]
  },
  {
   "cell_type": "code",
   "execution_count": null,
   "metadata": {},
   "outputs": [],
   "source": [
    " ### Escribamos un programa que lea por pantalla 2 numeros y los sume,reste, multiplique y divida sacando un mensaje.\n",
    "number_1 = int(input(\"Escriba el primer numero: \\n\"))\n",
    "number_2 = int(input(\"Escriba el segundo numero: \\n\"))\n",
    "print(\"Estas son las operaciones basicas con los numeros introducidos:\",number_1,\"y\",number_2)\n",
    "print(\"Suma de\",number_1,\"y\",number_2,\":\",number_1+number_2)\n",
    "print(\"Resta de\",number_1,\"y\",number_2,\":\",number_1-number_2)\n",
    "print(\"Multiplicacion de\",number_1,\"y\",number_2,\":\",number_1*number_2)\n",
    "print(\"Division de\",number_1,\"y\",number_2,\":\",number_1/number_2)\n",
    " "
   ]
  },
  {
   "cell_type": "code",
   "execution_count": null,
   "metadata": {},
   "outputs": [],
   "source": [
    "# Se pueden combinar cadenas de strings de una forma sencilla:\n",
    "msg_1 = \"Hola\"\n",
    "msg_2 = \"¿Que tal?\"\n",
    "print(msg_1,msg_2)\n",
    "msg_3 = msg_1+msg_2\n",
    "print(msg_3)\n",
    "msg_3 = msg_1+\" \"+msg_2\n",
    "print(msg_3)"
   ]
  },
  {
   "cell_type": "code",
   "execution_count": null,
   "metadata": {},
   "outputs": [],
   "source": [
    "# Podemos repetir cadenas al igual que si quisieramos multiplicar numeros:\n",
    "msg_3*5\n",
    "#Equivaldria a msg_3+msg_3+msg_3+msg_3+msg_3"
   ]
  },
  {
   "cell_type": "code",
   "execution_count": null,
   "metadata": {},
   "outputs": [],
   "source": [
    "# Podemos acceder a cada carater de una cadena de texto como si de un vector se tratase\n",
    "frase = \"Hola que tal, me llamo Juan Enrique y soy un crack\"\n",
    "print(frase[0])\n",
    "print(frase[-1])\n",
    "print(frase[-8:-2])\n",
    "print(frase[-8:])"
   ]
  },
  {
   "cell_type": "code",
   "execution_count": null,
   "metadata": {},
   "outputs": [],
   "source": [
    "# Mas formas de trocear un string:\n",
    "frase = \"Hola que tal, me llamo Juan Enrique y soy un crack\"\n",
    "print(frase[:]) # printea todo el string\n",
    "print(frase[12:]) # printea desde la posicion 12 hasta el final\n",
    "print(frase[:11]) # printea desde el principio hasta la posicon 10! (no la 11)\n",
    "print(frase[5:11]) # printea desde la posicion 5 hasta la 10\n",
    "print(frase[5:15:2]) # printea desde la posicion 5 hasta la 11 haciendo saltos de tamaño."
   ]
  },
  {
   "cell_type": "code",
   "execution_count": null,
   "metadata": {},
   "outputs": [],
   "source": [
    " # Se puede ver si una cadena de texto esta contenida en otra\n",
    "print(\"Hola\" in frase)\n",
    "print(\"hola\" in frase) # Es case sensitive asi que distinguira entre mayusculas y minusculas\n"
   ]
  },
  {
   "cell_type": "code",
   "execution_count": null,
   "metadata": {},
   "outputs": [],
   "source": [
    "# Se pueden eliminar espacios o caracteres que no nos interesen\n",
    "serial_number = '\\n\\t   \\n 48374983274832    \\n\\n\\t   \\t   \\n hola'\n",
    "serial_number = serial_number.split() ## limpiara el string de espacios, tabuladores y saltos de linea ya que no le hemos dicho que limpiar\n",
    "serial_number"
   ]
  },
  {
   "cell_type": "code",
   "execution_count": null,
   "metadata": {},
   "outputs": [],
   "source": [
    "\n",
    "serial_number = '\\n\\t   \\n 48374983274832 asdasdas   \\n\\n\\t   \\t   \\n hola'\n",
    "serial_number = serial_number.split(sep=\" \") ## En el primer caso ha limpiado el string de espacios, en el segundo ha \n",
    "#creado una lista con todas las partes del string que estaban separadas por un espacio.\n",
    "serial_number"
   ]
  },
  {
   "cell_type": "code",
   "execution_count": null,
   "metadata": {},
   "outputs": [],
   "source": [
    "\n",
    "serial_number = '\\n\\t   \\n 48374983274832 asdasdas   \\n\\n\\t   \\t   \\n hola' \n",
    "serial_number = serial_number.strip('\\n\\t')\n",
    "serial_number"
   ]
  },
  {
   "cell_type": "code",
   "execution_count": null,
   "metadata": {},
   "outputs": [],
   "source": [
    "# Para extraer elementos por la izquierda\n",
    "serial_number = '\\n\\t   \\n 48374983274832 asdasdas   \\n\\n\\t   \\t   \\n hola' \n",
    "serial_number = serial_number.lstrip()\n",
    "serial_number"
   ]
  },
  {
   "cell_type": "code",
   "execution_count": null,
   "metadata": {},
   "outputs": [],
   "source": [
    "# Para extraer elementos por la derecha\n",
    "serial_number = '\\n\\t   \\n 48374983274832 asdasdas   \\n\\n\\t' \n",
    "serial_number = serial_number.rstrip()\n",
    "serial_number"
   ]
  },
  {
   "cell_type": "code",
   "execution_count": null,
   "metadata": {},
   "outputs": [],
   "source": [
    "frase = \"Hola que tal, me llamo Juan y tu? Te gustaría ir al cine conmigo?\"\n",
    "## Buscar elementos en una cadena de strings.\n",
    "print(frase.startswith(\"hola\")) # Buscamos si el string comienza por una palabra.\n",
    "print(frase.startswith(\"Hola\")) # De nuevo vemos que todo es case sensitive.\n",
    "print(frase.startswith(\"H\")) # Buscamos si el string comienza por una palabra."
   ]
  },
  {
   "cell_type": "code",
   "execution_count": null,
   "metadata": {},
   "outputs": [],
   "source": [
    "print(frase.endswith(\"o\")) # Buscamos si el string acaba por una palabra.\n",
    "print(frase.endswith(\"?\"))\n",
    "print(frase.endswith(\"igo?\")) # Buscamos si el string acaba por una palabra.\n",
    "print(frase.endswith(\"conmigo?\")) # Buscamos si el string acaba por una palabra.\n",
    "print(frase.endswith(\"conmigo\")) # Buscamos si el string acaba por una palabra."
   ]
  },
  {
   "cell_type": "code",
   "execution_count": null,
   "metadata": {},
   "outputs": [],
   "source": [
    "# Comprobar si en una cadena existe una palabra\n",
    "frase = \"Hola que tal, me llamo Juan y tu? Te gustaría ir al cine conmigo? Si, me gustaria ir al cine contigo\"\n",
    "print(frase.find(\"cine\")) \n",
    "print(frase.index(\"cine\"))\n",
    "# Las dos funciones nos devuelven el indice en el que empieza la palabra.Ojo, nos devuelve la primera vez que aparece la palabra cine.\n",
    "print(frase[52:56])\n",
    "print(frase[57:].find(\"cine\")) # En esta ultima ocasion, nos devuelve el siguiente momento en el que tenemos la palabra cine.\n",
    "print(frase[88:92]) # A 57 le sumamos 31 y podremos encontrar la palabra en la posicion concreta.\n",
    "print(frase.find(\"Bar\"))\n",
    "print(frase.index(\"Bar\")) # En caso de que no exista la palabra, la funcion find no dara problemas pero la de index si."
   ]
  },
  {
   "cell_type": "code",
   "execution_count": null,
   "metadata": {},
   "outputs": [],
   "source": [
    "## Se puede contabilizar el numero de veces que aparece una cadena de texto.\n",
    "frase = \"Hola que tal, me llamo Juan y tu? Te gustaría ir al cine conmigo? Si, me gustaria ir al cine contigo\"\n",
    "print(frase.count(\"cine\"))\n",
    "print(frase.count(\"ir\"))\n",
    "print(frase.count(\"?\"))\n",
    "print(frase.count(\"me\"))\n",
    "print(frase.count(\"hola\"))\n",
    "print(frase.count(\"Hola\"))"
   ]
  },
  {
   "cell_type": "code",
   "execution_count": null,
   "metadata": {},
   "outputs": [],
   "source": [
    "## Se pueden reemplazar cadenas de texto en una cadena de texto sin tener que trocear ni hacer malabares.\n",
    "frase = \"Hola que tal, me llamo Juan y tu? Te gustaría ir al cine conmigo? Si, me gustaria ir al cine contigo\"\n",
    "print(frase.replace(\"cine\",\"bar\"))\n",
    "print(frase)\n",
    "# Observamos que replace no reemplaza en el string original, si no que deberiamos asignarlo para afianzar el cambio.\n",
    "frase=frase.replace(\"cine\",\"bar\")\n",
    "print(frase)"
   ]
  },
  {
   "cell_type": "code",
   "execution_count": null,
   "metadata": {},
   "outputs": [],
   "source": [
    "frase = \"Hola que tal, me llamo Juan y tu? Te gustaría ir al cine conmigo? Si, me gustaria ir al cine contigo\"\n",
    "print(frase.replace(\"cine\",\"bar\",1)) # Podemos reemplazar unicamente el primer string que coincida."
   ]
  },
  {
   "cell_type": "code",
   "execution_count": null,
   "metadata": {},
   "outputs": [],
   "source": [
    "# Se puede modificar las mayusculas o minisculas de un string\n",
    "frase = \"hola que tal, me llamo Juan y tu? Te gustaría ir al cine conmigo? Si, me gustaria ir al cine contigo\"\n",
    "print(frase.capitalize()) #Hace mayuscula el primer string y el resto lo pone en minuscula\n",
    "print(frase.title()) #Hace mayuscula cada inicio de string.\n",
    "print(frase.upper()) #Hace mayuscula todo el string\n",
    "print(frase.lower()) #Hace minuscula todo el string\n",
    "print(frase.swapcase()) # Hace las minusculas mayusculas y las mayusculas las hace minusculas"
   ]
  },
  {
   "cell_type": "code",
   "execution_count": null,
   "metadata": {},
   "outputs": [],
   "source": [
    "# Podemos preguntar a python si en un string tpdos los caracteres numeros o letras\n",
    "frase = \"hola que tal, me llamo Juan y tu? Te gustaría ir al cine conmigo? Si, me gustaria ir al cine contigo\"\n",
    "print(frase.isalnum())# el espacio, coma , signo ? no se contabilizan como letra o numero!!!!!\n",
    "frase2 = \"hola que tal, me llamo Juan y tu? Te gustaría ir al cine conmigo a las 5? Si, me gustaria ir al cine contigo\"\n",
    "print(frase2.isalnum())\n",
    "frase2 = \"hola5\"\n",
    "print(frase2.isalnum())\n",
    "frase2 = \"hola \" # el espacio no se contabiliza como letra o numero!!!!!\n",
    "print(frase2.isalnum())"
   ]
  },
  {
   "cell_type": "code",
   "execution_count": null,
   "metadata": {},
   "outputs": [],
   "source": [
    "frase = \"hola que tal, me llamo Juan y tu? Te gustaría ir al cine conmigo? Si, me gustaria ir al cine contigo\"\n",
    "print(frase.isalpha())# el espacio, coma , signo ? no se contabilizan como letra o numero!!!!!\n",
    "frase = \"45464\"\n",
    "print(frase.isalpha())"
   ]
  },
  {
   "cell_type": "code",
   "execution_count": null,
   "metadata": {},
   "outputs": [],
   "source": [
    "frase = \"hola que tal, me llamo Juan y tu? Te gustaría ir al cine conmigo? Si, me gustaria ir al cine contigo\"\n",
    "print(frase.isupper())\n",
    "frase = \"hola que tal, me llamo Juan y tu? Te gustaría ir al cine conmigo? Si, me gustaria ir al cine contigo\"\n",
    "print(frase.islower())\n",
    "frase = \"HOLA\"\n",
    "print(frase.isupper())"
   ]
  },
  {
   "cell_type": "code",
   "execution_count": null,
   "metadata": {},
   "outputs": [],
   "source": [
    "## Interpolacion de cadenas de texto: fstrings\n",
    "nombre = \"Juan\"\n",
    "apellido = \"Garcia\"\n",
    "edad = 30\n",
    "dinero = 40_855\n",
    "print(f\"Hola, me llamo {nombre} {apellido}, tengo {edad} años y ahora mismo tengo {dinero} en el banco\")\n"
   ]
  },
  {
   "cell_type": "code",
   "execution_count": 93,
   "metadata": {},
   "outputs": [
    {
     "name": "stdout",
     "output_type": "stream",
     "text": [
      "El numero pi con 3 decimales: 3.142\n",
      "El numero pi con 6 decimales: 3.141593\n",
      "El numero pi con 3 decimales y completado con espacios hasta tener 7 caracteres:   3.142\n",
      "El numero pi con 3 decimales y completado con 0s hasta tener 7 caracteres: 003.142\n"
     ]
    }
   ],
   "source": [
    "# Se puede jugar con los decimales que queramos que aparezcan con fstring igual que en otros lenguajes\n",
    "PI = 3.14159265\n",
    "print(f'El numero pi con 3 decimales: {PI:.3f}')\n",
    "print(f'El numero pi con 6 decimales: {PI:.6f}')\n",
    "print(f'El numero pi con 3 decimales y completado con espacios hasta tener 7 caracteres: {PI:7.3f}')\n",
    "print(f'El numero pi con 3 decimales y completado con 0s hasta tener 7 caracteres: {PI:07.3f}')"
   ]
  },
  {
   "cell_type": "code",
   "execution_count": 97,
   "metadata": {},
   "outputs": [
    {
     "name": "stdout",
     "output_type": "stream",
     "text": [
      "Hola   |  que  |    tal\n",
      " Hola  |  que  |  tal  \n",
      "   Hola|    que|    tal\n"
     ]
    }
   ],
   "source": [
    "# Se pueden formatear las cadenas de texto como deseemos con la funcion s y f\n",
    "texto_1 = \"Hola\"\n",
    "texto_2 = \"que\"\n",
    "texto_3 = \"tal\"\n",
    "print(f'{texto_1:<7s}|{texto_2:^7s}|{texto_3:>7s}')\n",
    "# En el primer caso ponemos espacios detras del texto hasta llegar a 7 caracteres.\n",
    "# En el segundo caso ponemos espacios para centrar el texto hasta tener 7 caracteres\n",
    "# En el ultimo caso ponemos espacios delante del texto hasta llegar a 7 caracteres.\n",
    "print(f'{texto_1:^7s}|{texto_2:^7s}|{texto_3:^7s}')\n",
    "print(f'{texto_1:>7s}|{texto_2:>7s}|{texto_3:>7s}')"
   ]
  },
  {
   "cell_type": "code",
   "execution_count": 99,
   "metadata": {},
   "outputs": [
    {
     "name": "stdout",
     "output_type": "stream",
     "text": [
      "Hola---|..que..|----tal\n"
     ]
    }
   ],
   "source": [
    "# Podemos poner hasta puntos o guiones en lugar de espacios\n",
    "print(f'{texto_1:-<7s}|{texto_2:.^7s}|{texto_3:->7s}')"
   ]
  },
  {
   "cell_type": "code",
   "execution_count": 116,
   "metadata": {},
   "outputs": [
    {
     "name": "stdout",
     "output_type": "stream",
     "text": [
      "2.71828\n",
      "2.718280\n",
      "    2.72\n",
      "2.718280e+00\n",
      "00002.7183\n",
      "             2.71828\n"
     ]
    }
   ],
   "source": [
    "# Mas ejemplos:\n",
    "e = 2.71828\n",
    "print(f'{e}')\n",
    "print(f'{e:.6f}')\n",
    "print(f'{e:8.2f}')\n",
    "print(f'{e:e}')\n",
    "print(f'{e:010.4f}')\n",
    "print(f'{e:20.5f}')"
   ]
  },
  {
   "cell_type": "code",
   "execution_count": 158,
   "metadata": {},
   "outputs": [],
   "source": [
    "html = '<h1>Core</h1>'\n",
    "code = html[1:html.find('>',1)]\n",
    "html = html[html.find('>')+1:]\n",
    "html = html[:html.find('<')]"
   ]
  },
  {
   "cell_type": "code",
   "execution_count": 159,
   "metadata": {},
   "outputs": [
    {
     "data": {
      "text/plain": [
       "'Core'"
      ]
     },
     "execution_count": 159,
     "metadata": {},
     "output_type": "execute_result"
    }
   ],
   "source": [
    "html"
   ]
  }
 ],
 "metadata": {
  "kernelspec": {
   "display_name": "Python 3",
   "language": "python",
   "name": "python3"
  },
  "language_info": {
   "codemirror_mode": {
    "name": "ipython",
    "version": 3
   },
   "file_extension": ".py",
   "mimetype": "text/x-python",
   "name": "python",
   "nbconvert_exporter": "python",
   "pygments_lexer": "ipython3",
   "version": "3.12.3"
  }
 },
 "nbformat": 4,
 "nbformat_minor": 2
}
