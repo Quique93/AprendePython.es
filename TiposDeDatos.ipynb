{
 "cells": [
  {
   "cell_type": "markdown",
   "metadata": {},
   "source": [
    "# Tipos de datos\n",
    "## Datos\n",
    "En python existen diferentes tipos de datos base. Son los siguientes:"
   ]
  },
  {
   "cell_type": "code",
   "execution_count": 1,
   "metadata": {},
   "outputs": [
    {
     "name": "stdout",
     "output_type": "stream",
     "text": [
      "True False\n",
      "5 -10\n",
      "78.8 -55.6\n",
      "(5+2j) 55j\n",
      "Hola Que tal\n",
      "(2, 4, 5) ('hola', 'soy', 'quique', 'y', 'tengo', 30, 'años')\n",
      "['Manzana', 'Aguacate'] ['Casa', 'Coche', 40000]\n",
      "{'tengo', 'años', 30, 'hola'} {1, 2, 5}\n",
      "{'Modelo: CX-60', 'Marca Coche : Mazda'}\n"
     ]
    }
   ],
   "source": [
    "# Boleano\n",
    "boleano_1 = True\n",
    "boleano_2 = False\n",
    "print(boleano_1,boleano_2)\n",
    "\n",
    "# Entero\n",
    "entero_1 = 5\n",
    "entero_2 = -10\n",
    "print(entero_1,entero_2)\n",
    "\n",
    "# Flotante (numero decimal)\n",
    "flotante_1 = 78.8\n",
    "flotante_2 = -55.6\n",
    "print(flotante_1,flotante_2)\n",
    "\n",
    "# Complejo (a+b*j)\n",
    "complejo_1 = 5+2j\n",
    "complejo_2 = 55j\n",
    "print(complejo_1,complejo_2)\n",
    "\n",
    "# Cadena o Strings\n",
    "cadena_1 = \"Hola\"\n",
    "cadena_2 = \"Que tal\"\n",
    "print(cadena_1,cadena_2)\n",
    "\n",
    "# Tupla o vector\n",
    "vector_1 = (2,4,5)\n",
    "vector_2 = (\"hola\",\"soy\",\"quique\",\"y\",\"tengo\",30,\"años\")\n",
    "print(vector_1,vector_2)\n",
    "\n",
    "# Lista\n",
    "lista_1 = [\"Manzana\", \"Aguacate\"]\n",
    "lista_2 = [\"Casa\",\"Coche\",40000]\n",
    "print(lista_1,lista_2)\n",
    "\n",
    "# Conjunto\n",
    "conjunto_1 = set([\"hola\",\"tengo\",30,\"años\"])\n",
    "conjunto_2 = set([5,2,1])\n",
    "print(conjunto_1,conjunto_2)\n",
    "\n",
    "# Diccionario\n",
    "diccionario_1 = {\"Marca Coche : Mazda\", \"Modelo: CX-60\"}\n",
    "print(diccionario_1)"
   ]
  },
  {
   "cell_type": "markdown",
   "metadata": {},
   "source": [
    "Python ofrece la posibilidad de asignar variables multiples:"
   ]
  },
  {
   "cell_type": "code",
   "execution_count": 2,
   "metadata": {},
   "outputs": [
    {
     "name": "stdout",
     "output_type": "stream",
     "text": [
      "Calle Paco Mutllo Calle Paco Mutllo\n"
     ]
    }
   ],
   "source": [
    "Piso = Casa = \"Calle Paco Mutllo\"\n",
    "print(Piso,Casa)"
   ]
  },
  {
   "cell_type": "markdown",
   "metadata": {},
   "source": [
    "Y también nos permite realizar asignaciones de variables ya existentes en otra variable."
   ]
  },
  {
   "cell_type": "code",
   "execution_count": 4,
   "metadata": {},
   "outputs": [
    {
     "name": "stdout",
     "output_type": "stream",
     "text": [
      "5 5\n"
     ]
    }
   ],
   "source": [
    "a = 5\n",
    "b = a\n",
    "print(a,b)"
   ]
  },
  {
   "cell_type": "markdown",
   "metadata": {},
   "source": [
    "Para conocer el tipo de una variable se utiliza type()"
   ]
  },
  {
   "cell_type": "code",
   "execution_count": 8,
   "metadata": {},
   "outputs": [
    {
     "name": "stdout",
     "output_type": "stream",
     "text": [
      "<class 'int'>\n",
      "<class 'float'>\n",
      "<class 'list'>\n",
      "<class 'set'>\n",
      "<class 'tuple'>\n",
      "<class 'complex'>\n",
      "<class 'set'>\n",
      "<class 'bool'>\n"
     ]
    }
   ],
   "source": [
    "print(type(entero_1))\n",
    "print(type(flotante_1))\n",
    "print(type(lista_1))\n",
    "print(type(diccionario_1))\n",
    "print(type(vector_1))\n",
    "print(type(complejo_1))\n",
    "print(type(conjunto_1))\n",
    "print(type(boleano_1))"
   ]
  },
  {
   "cell_type": "markdown",
   "metadata": {},
   "source": [
    "## Operaciones con numeros"
   ]
  },
  {
   "cell_type": "code",
   "execution_count": 14,
   "metadata": {},
   "outputs": [
    {
     "name": "stdout",
     "output_type": "stream",
     "text": [
      "16\n",
      "2\n",
      "63\n",
      "1.2857142857142858\n",
      "1\n",
      "2\n",
      "729\n"
     ]
    }
   ],
   "source": [
    "\n",
    "# Suma\n",
    "resultado = 9+7\n",
    "print(resultado)\n",
    "\n",
    "# Resta\n",
    "resultado = 9-7\n",
    "print(resultado)\n",
    "\n",
    "#Multiplicacion\n",
    "resultado = 9*7\n",
    "print(resultado)\n",
    "\n",
    "#Division flotante\n",
    "resultado = 9/7\n",
    "print(resultado)\n",
    "\n",
    "#Division entera\n",
    "resultado = 9//7\n",
    "print(resultado)\n",
    "\n",
    "#Modulo\n",
    "resultado = 9%7\n",
    "print(resultado)\n",
    "\n",
    "#Exponenciacion\n",
    "resultado = 9**3\n",
    "print(resultado)"
   ]
  },
  {
   "cell_type": "markdown",
   "metadata": {},
   "source": [
    "En Python, el valor boleano True es considerado como 1 cuando se realizan operaciones matemáticas y False es considerado como 0:"
   ]
  },
  {
   "cell_type": "code",
   "execution_count": 1,
   "metadata": {},
   "outputs": [
    {
     "name": "stdout",
     "output_type": "stream",
     "text": [
      "26\n",
      "55\n",
      "55\n",
      "0\n"
     ]
    }
   ],
   "source": [
    "print(25+True)\n",
    "print(55*True)\n",
    "print(55-False)\n",
    "print(55*False)"
   ]
  },
  {
   "cell_type": "markdown",
   "metadata": {},
   "source": [
    "En Python tenemos funciones base para transformar tipos de datos a otros tipos:\n",
    "\n",
    "int()\n",
    "bool()\n",
    "float()\n",
    "\n",
    "y tenemos la funcion type para saber que tipo es una variable. También tenemos la opción de isinstance(variable,tipo) para preguntar a Python si una variable es de un tipo determinado."
   ]
  },
  {
   "cell_type": "code",
   "execution_count": 3,
   "metadata": {},
   "outputs": [
    {
     "name": "stdout",
     "output_type": "stream",
     "text": [
      "True\n",
      "False\n",
      "24.0\n",
      "55\n"
     ]
    }
   ],
   "source": [
    "print(bool(55))\n",
    "print(bool(0))\n",
    "print(float(24))\n",
    "print(int(55.5))"
   ]
  },
  {
   "cell_type": "code",
   "execution_count": 5,
   "metadata": {},
   "outputs": [
    {
     "name": "stdout",
     "output_type": "stream",
     "text": [
      "False\n",
      "True\n",
      "False\n"
     ]
    }
   ],
   "source": [
    "a = 55.5\n",
    "print(isinstance(a,bool))\n",
    "print(isinstance(a,float))\n",
    "print(isinstance(a,complex))"
   ]
  },
  {
   "cell_type": "markdown",
   "metadata": {},
   "source": [
    "Como en muchos lenguajes de programación, Python ofrece una función base para redondear llamada round():"
   ]
  },
  {
   "cell_type": "code",
   "execution_count": 12,
   "metadata": {},
   "outputs": [
    {
     "name": "stdout",
     "output_type": "stream",
     "text": [
      "3\n",
      "3.1\n",
      "3.14\n",
      "3.142\n",
      "3.1416\n",
      "3.14159\n"
     ]
    }
   ],
   "source": [
    "pi = 3.14159265359\n",
    "print(round(pi))\n",
    "print(round(pi, 1))\n",
    "print(round(pi, 2))\n",
    "print(round(pi, 3))\n",
    "print(round(pi, 4))\n",
    "print(round(pi, 5))\n"
   ]
  },
  {
   "cell_type": "markdown",
   "metadata": {},
   "source": [
    "### Ejercicio 1: Utilizando la aproximación polinomial del seno, crear una función que lea el valor de x y calcule su aproximacion."
   ]
  },
  {
   "cell_type": "code",
   "execution_count": 6,
   "metadata": {},
   "outputs": [],
   "source": [
    "def calculo_seno(x:float):\n",
    "    output = (4*x*(180-x))/(40500-x*(180-x))\n",
    "    return output"
   ]
  },
  {
   "cell_type": "code",
   "execution_count": 7,
   "metadata": {},
   "outputs": [
    {
     "name": "stdout",
     "output_type": "stream",
     "text": [
      "1.0\n",
      "0.7647058823529411\n",
      "0.7058823529411765\n"
     ]
    }
   ],
   "source": [
    "print(calculo_seno(90))\n",
    "print(calculo_seno(50))\n",
    "print(calculo_seno(45))"
   ]
  },
  {
   "cell_type": "code",
   "execution_count": 10,
   "metadata": {},
   "outputs": [
    {
     "name": "stdout",
     "output_type": "stream",
     "text": [
      "0.0\n",
      "0.0013385607660368892\n",
      "0.0012244282453710564\n"
     ]
    }
   ],
   "source": [
    "import numpy as np\n",
    "print(abs(calculo_seno(90)-np.sin(np.deg2rad(90))))\n",
    "print(abs(calculo_seno(50)-np.sin(np.deg2rad(50))))\n",
    "print(abs(calculo_seno(45)-np.sin(np.deg2rad(45))))"
   ]
  },
  {
   "cell_type": "markdown",
   "metadata": {},
   "source": [
    "## Cadenas de textos"
   ]
  },
  {
   "cell_type": "markdown",
   "metadata": {},
   "source": [
    "Las cadenas de texto son secuencias de caracteres. También se les conoce como «strings» y nos permiten almacenar información textual de forma muy cómoda. 1\n",
    "\n",
    "Es importante destacar que Python 3 almacena los caracteres codificados en el estándar Unicode, lo que es una gran ventaja con respecto a versiones antiguas del lenguaje. Además permite representar una cantidad ingente de símbolos incluyendo los famosos emojis 😎."
   ]
  },
  {
   "cell_type": "code",
   "execution_count": 13,
   "metadata": {},
   "outputs": [
    {
     "name": "stdout",
     "output_type": "stream",
     "text": [
      "Hola soy Quique y esta es mi primera cadena de texto\n"
     ]
    }
   ],
   "source": [
    "text = 'Hola soy Quique y esta es mi primera cadena de texto'\n",
    "print(text)"
   ]
  },
  {
   "cell_type": "code",
   "execution_count": 14,
   "metadata": {},
   "outputs": [
    {
     "name": "stdout",
     "output_type": "stream",
     "text": [
      "Hola soy Quique y esta es mi segundo \"string\" o cadena texto\n"
     ]
    }
   ],
   "source": [
    "text_2 = 'Hola soy Quique y esta es mi segundo \"string\" o cadena texto'\n",
    "print(text_2)"
   ]
  },
  {
   "cell_type": "markdown",
   "metadata": {},
   "source": [
    "Podemos crear «strings» a partir de otros tipos de datos usando la función str():"
   ]
  },
  {
   "cell_type": "code",
   "execution_count": 16,
   "metadata": {},
   "outputs": [
    {
     "data": {
      "text/plain": [
       "'10.5'"
      ]
     },
     "execution_count": 16,
     "metadata": {},
     "output_type": "execute_result"
    }
   ],
   "source": [
    "str(10.5)"
   ]
  },
  {
   "cell_type": "code",
   "execution_count": 17,
   "metadata": {},
   "outputs": [
    {
     "data": {
      "text/plain": [
       "'True'"
      ]
     },
     "execution_count": 17,
     "metadata": {},
     "output_type": "execute_result"
    }
   ],
   "source": [
    "str(True)"
   ]
  },
  {
   "cell_type": "markdown",
   "metadata": {},
   "source": [
    "En python tenemos la posibilidad de utilizar secuencias de escape:"
   ]
  },
  {
   "cell_type": "code",
   "execution_count": 18,
   "metadata": {},
   "outputs": [
    {
     "name": "stdout",
     "output_type": "stream",
     "text": [
      "Primera linea \n",
      "Segunda linea \n",
      "Tercera linea\n",
      "El Real Madrid tiene actualmente: \t14 champions\n",
      "Si queremos, podemos hacer aparecer una comilla ' de esta forma.\n",
      "Estoy \\ escapando \\ la barra \\ invertida\n"
     ]
    }
   ],
   "source": [
    "mensaje = 'Primera linea \\nSegunda linea \\nTercera linea'\n",
    "print(mensaje)\n",
    "\n",
    "mensaje = 'El Real Madrid tiene actualmente: \\t14 champions'\n",
    "print(mensaje)\n",
    "\n",
    "mensaje = 'Si queremos, podemos hacer aparecer una comilla \\' de esta forma.'\n",
    "print(mensaje)\n",
    "\n",
    "mensaje = 'Estoy \\\\ escapando \\\\ la barra \\\\ invertida'\n",
    "print(mensaje)"
   ]
  },
  {
   "cell_type": "code",
   "execution_count": 19,
   "metadata": {},
   "outputs": [
    {
     "name": "stdout",
     "output_type": "stream",
     "text": [
      "Si utilizamos r \\\\ al principio del string \\' se ignoraran todos los \\n escapes que \\tutilicemos\n"
     ]
    }
   ],
   "source": [
    "mensaje = r'Si utilizamos r \\\\ al principio del string \\' se ignoraran todos los \\n escapes que \\tutilicemos'\n",
    "print(mensaje)"
   ]
  },
  {
   "cell_type": "markdown",
   "metadata": {},
   "source": [
    "Es posible printear más de un valor con la funcion print():"
   ]
  },
  {
   "cell_type": "code",
   "execution_count": 20,
   "metadata": {},
   "outputs": [
    {
     "name": "stdout",
     "output_type": "stream",
     "text": [
      "Hola 5 25.5 Soy \n",
      "Quique\n"
     ]
    }
   ],
   "source": [
    "print('Hola',5,25.5,'Soy \\nQuique')"
   ]
  },
  {
   "cell_type": "markdown",
   "metadata": {},
   "source": [
    "Y incluso podemos incluir separadores entre nuestras variables a imprimir:"
   ]
  },
  {
   "cell_type": "code",
   "execution_count": 21,
   "metadata": {},
   "outputs": [
    {
     "name": "stdout",
     "output_type": "stream",
     "text": [
      "Probando|El|Separador\n"
     ]
    }
   ],
   "source": [
    "print('Probando','El','Separador',sep=\"|\")"
   ]
  },
  {
   "cell_type": "markdown",
   "metadata": {},
   "source": [
    "En python podemos leer variables del teclado utilizando la función base input(). Esta función devolverá un string así que cuando se trabaje con datos numeros es importante aclarar que si se espera un número, se debe realizar una conversión explícita de la variable."
   ]
  },
  {
   "cell_type": "code",
   "execution_count": 22,
   "metadata": {},
   "outputs": [
    {
     "name": "stdout",
     "output_type": "stream",
     "text": [
      "El nombre introducido es: \t Quique\n"
     ]
    }
   ],
   "source": [
    "Nombre = input('Introduce tu nombre:\\n')\n",
    "print('El nombre introducido es: \\t',Nombre)"
   ]
  },
  {
   "cell_type": "code",
   "execution_count": 23,
   "metadata": {},
   "outputs": [
    {
     "name": "stdout",
     "output_type": "stream",
     "text": [
      "El nombre introducido es: \t Quique .\n",
      "Además, tienes  30 años.\n"
     ]
    }
   ],
   "source": [
    "Nombre = input('Introduce tu nombre:\\n')\n",
    "Edad = int(input('Introduce tu nombre:\\n'))\n",
    "print('El nombre introducido es: \\t',Nombre,\".\\nAdemás, tienes \",Edad,\"años.\")"
   ]
  },
  {
   "cell_type": "markdown",
   "metadata": {},
   "source": [
    "### Ejercicio 2: Crea una funcion de python que nos requiera la introducción de dos numeros enteros por teclado y realice las operaciones de suma, resta, multiplicacion y division entera.\n"
   ]
  },
  {
   "cell_type": "code",
   "execution_count": 24,
   "metadata": {},
   "outputs": [],
   "source": [
    "def realiza_operaciones():\n",
    "    x = int(input('Introduce el primer entero por teclado:\\n'))\n",
    "    y = int(input('intruduce el segundo entero por teclado:\\n'))\n",
    "    print('La suma es: ',x+y,'.\\nLa resta es:',x-y,'.\\nLa multiplicación es: ',x*y,'.\\nLa división entera es:',x//y)"
   ]
  },
  {
   "cell_type": "code",
   "execution_count": 26,
   "metadata": {},
   "outputs": [
    {
     "name": "stdout",
     "output_type": "stream",
     "text": [
      "La suma es:  0 .\n",
      "La resta es: 10 .\n",
      "La multiplicación es:  -25 .\n",
      "La división entera es: -1\n"
     ]
    }
   ],
   "source": [
    "realiza_operaciones()"
   ]
  },
  {
   "cell_type": "markdown",
   "metadata": {},
   "source": [
    "Se pueden concatenar o combinar dos o más cadenas de texto utilizando el operador '+':"
   ]
  },
  {
   "cell_type": "code",
   "execution_count": 28,
   "metadata": {},
   "outputs": [
    {
     "data": {
      "text/plain": [
       "'Cuando el rio suena agua lleva.'"
      ]
     },
     "execution_count": 28,
     "metadata": {},
     "output_type": "execute_result"
    }
   ],
   "source": [
    "text_1 = 'Cuando el rio suena '\n",
    "text_2 = 'agua lleva.'\n",
    "text_1+text_2"
   ]
  },
  {
   "cell_type": "markdown",
   "metadata": {},
   "source": [
    "Al igual que '+', podemos aplicar '*' a una cadena de texto. Este operador lo que hará será multiplicar la cadena de text el número de veces que queramos."
   ]
  },
  {
   "cell_type": "code",
   "execution_count": 29,
   "metadata": {},
   "outputs": [
    {
     "data": {
      "text/plain": [
       "'Cuando el rio suena Cuando el rio suena Cuando el rio suena Cuando el rio suena Cuando el rio suena '"
      ]
     },
     "execution_count": 29,
     "metadata": {},
     "output_type": "execute_result"
    }
   ],
   "source": [
    "text_1*5"
   ]
  },
  {
   "cell_type": "markdown",
   "metadata": {},
   "source": [
    "Podemos pensar un string como un vector de letras en el que cada letra está asociada a un indice del vector. De esta forma, podemos acceder a un caracter del string utilizando [ ]:"
   ]
  },
  {
   "cell_type": "code",
   "execution_count": 30,
   "metadata": {},
   "outputs": [
    {
     "name": "stdout",
     "output_type": "stream",
     "text": [
      "H\n",
      "u\n"
     ]
    }
   ],
   "source": [
    "frase = 'Hola Mundo'\n",
    "print(frase[0])\n",
    "print(frase[6])"
   ]
  },
  {
   "cell_type": "markdown",
   "metadata": {},
   "source": [
    "Las cadenas de texto son objetos inmutables. Esto significa que no podemos alterar el contenido original realizando asignaciones:"
   ]
  },
  {
   "cell_type": "code",
   "execution_count": 31,
   "metadata": {},
   "outputs": [
    {
     "name": "stdout",
     "output_type": "stream",
     "text": [
      "Hola Mundo\n"
     ]
    },
    {
     "ename": "TypeError",
     "evalue": "'str' object does not support item assignment",
     "output_type": "error",
     "traceback": [
      "\u001b[1;31m---------------------------------------------------------------------------\u001b[0m",
      "\u001b[1;31mTypeError\u001b[0m                                 Traceback (most recent call last)",
      "Cell \u001b[1;32mIn[31], line 2\u001b[0m\n\u001b[0;32m      1\u001b[0m \u001b[38;5;28mprint\u001b[39m(frase)\n\u001b[1;32m----> 2\u001b[0m \u001b[43mfrase\u001b[49m\u001b[43m[\u001b[49m\u001b[38;5;241;43m5\u001b[39;49m\u001b[43m]\u001b[49m \u001b[38;5;241m=\u001b[39m \u001b[38;5;124m'\u001b[39m\u001b[38;5;124masdadssa\u001b[39m\u001b[38;5;124m'\u001b[39m\n",
      "\u001b[1;31mTypeError\u001b[0m: 'str' object does not support item assignment"
     ]
    }
   ],
   "source": [
    "print(frase)\n",
    "frase[5] = 'asdadssa'"
   ]
  },
  {
   "cell_type": "code",
   "execution_count": null,
   "metadata": {},
   "outputs": [],
   "source": []
  }
 ],
 "metadata": {
  "kernelspec": {
   "display_name": "Python 3",
   "language": "python",
   "name": "python3"
  },
  "language_info": {
   "codemirror_mode": {
    "name": "ipython",
    "version": 3
   },
   "file_extension": ".py",
   "mimetype": "text/x-python",
   "name": "python",
   "nbconvert_exporter": "python",
   "pygments_lexer": "ipython3",
   "version": "3.12.3"
  }
 },
 "nbformat": 4,
 "nbformat_minor": 2
}
